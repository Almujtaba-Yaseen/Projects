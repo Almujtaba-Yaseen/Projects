{
 "cells": [
  {
   "cell_type": "code",
   "execution_count": 3,
   "id": "de3be522-3db2-40a1-9935-d68fe724c37d",
   "metadata": {},
   "outputs": [],
   "source": [
    "import numpy as np\n",
    "import pandas as pd\n",
    "import matplotlib.pyplot as plt\n",
    "import seaborn as sns\n",
    "from sklearn import preprocessing\n",
    "from sklearn.preprocessing import LabelEncoder\n",
    "from sklearn.metrics import roc_auc_score\n",
    "from sklearn.model_selection import StratifiedKFold\n",
    "from lightgbm import LGBMClassifier\n",
    "import time\n",
    "\n",
    "import warnings\n",
    "warnings.filterwarnings('ignore')\n",
    "\n",
    "seed = 42\n",
    "\n",
    "import os"
   ]
  },
  {
   "cell_type": "code",
   "execution_count": 4,
   "id": "6a5efe7d-441d-4374-bf34-5d1f70294ed9",
   "metadata": {},
   "outputs": [],
   "source": [
    "# Importing our data\n",
    "\n",
    "invoice_test = pd.read_csv('invoice_test.csv', low_memory = False)\n",
    "invoice_train = pd.read_csv('invoice_train.csv', low_memory = False)\n",
    "client_test = pd.read_csv('client_test.csv', low_memory = False)\n",
    "client_train = pd.read_csv('client_train.csv', low_memory = False)\n",
    "sample_submission = pd.read_csv('SampleSubmission.csv', low_memory = False)"
   ]
  },
  {
   "cell_type": "code",
   "execution_count": 5,
   "id": "408c3651-1142-4e6c-a657-56595b7efb12",
   "metadata": {},
   "outputs": [],
   "source": [
    "# ***Inspecting our data***:"
   ]
  },
  {
   "cell_type": "code",
   "execution_count": 6,
   "id": "75083879-2c01-410a-87b9-f4bdf80d38a3",
   "metadata": {},
   "outputs": [
    {
     "data": {
      "text/plain": [
       "'\\npandas_profiling.ProfileReport(invoice_train, **kwargs)\\npandas_profiling.ProfileReport(client_train, **kwargs)\\npandas_profiling.ProfileReport(invoice_test, **kwargs)\\npandas_profiling.ProfileReport(client_test, **kwargs)\\n'"
      ]
     },
     "execution_count": 6,
     "metadata": {},
     "output_type": "execute_result"
    }
   ],
   "source": [
    "# Trying pandas profiling:\n",
    "'''\n",
    "pandas_profiling.ProfileReport(invoice_train, **kwargs)\n",
    "pandas_profiling.ProfileReport(client_train, **kwargs)\n",
    "pandas_profiling.ProfileReport(invoice_test, **kwargs)\n",
    "pandas_profiling.ProfileReport(client_test, **kwargs)\n",
    "'''"
   ]
  },
  {
   "cell_type": "code",
   "execution_count": 7,
   "id": "b86a59b5-364d-4e46-bb01-8f4c01ed7e1f",
   "metadata": {},
   "outputs": [
    {
     "name": "stdout",
     "output_type": "stream",
     "text": [
      "(1939730, 16) (4476749, 16) (58069, 5) (135493, 6)\n"
     ]
    }
   ],
   "source": [
    "print(invoice_test.shape, invoice_train.shape, client_test.shape, client_train.shape)"
   ]
  },
  {
   "cell_type": "code",
   "execution_count": 8,
   "id": "025e1e11-cc94-4e4a-823b-4eac6ac437b4",
   "metadata": {},
   "outputs": [
    {
     "data": {
      "text/html": [
       "<div>\n",
       "<style scoped>\n",
       "    .dataframe tbody tr th:only-of-type {\n",
       "        vertical-align: middle;\n",
       "    }\n",
       "\n",
       "    .dataframe tbody tr th {\n",
       "        vertical-align: top;\n",
       "    }\n",
       "\n",
       "    .dataframe thead th {\n",
       "        text-align: right;\n",
       "    }\n",
       "</style>\n",
       "<table border=\"1\" class=\"dataframe\">\n",
       "  <thead>\n",
       "    <tr style=\"text-align: right;\">\n",
       "      <th></th>\n",
       "      <th>client_id</th>\n",
       "      <th>invoice_date</th>\n",
       "      <th>tarif_type</th>\n",
       "      <th>counter_number</th>\n",
       "      <th>counter_statue</th>\n",
       "      <th>counter_code</th>\n",
       "      <th>reading_remarque</th>\n",
       "      <th>counter_coefficient</th>\n",
       "      <th>consommation_level_1</th>\n",
       "      <th>consommation_level_2</th>\n",
       "      <th>consommation_level_3</th>\n",
       "      <th>consommation_level_4</th>\n",
       "      <th>old_index</th>\n",
       "      <th>new_index</th>\n",
       "      <th>months_number</th>\n",
       "      <th>counter_type</th>\n",
       "    </tr>\n",
       "  </thead>\n",
       "  <tbody>\n",
       "    <tr>\n",
       "      <th>0</th>\n",
       "      <td>train_Client_0</td>\n",
       "      <td>2014-03-24</td>\n",
       "      <td>11</td>\n",
       "      <td>1335667</td>\n",
       "      <td>0</td>\n",
       "      <td>203</td>\n",
       "      <td>8</td>\n",
       "      <td>1</td>\n",
       "      <td>82</td>\n",
       "      <td>0</td>\n",
       "      <td>0</td>\n",
       "      <td>0</td>\n",
       "      <td>14302</td>\n",
       "      <td>14384</td>\n",
       "      <td>4</td>\n",
       "      <td>ELEC</td>\n",
       "    </tr>\n",
       "    <tr>\n",
       "      <th>1</th>\n",
       "      <td>train_Client_0</td>\n",
       "      <td>2013-03-29</td>\n",
       "      <td>11</td>\n",
       "      <td>1335667</td>\n",
       "      <td>0</td>\n",
       "      <td>203</td>\n",
       "      <td>6</td>\n",
       "      <td>1</td>\n",
       "      <td>1200</td>\n",
       "      <td>184</td>\n",
       "      <td>0</td>\n",
       "      <td>0</td>\n",
       "      <td>12294</td>\n",
       "      <td>13678</td>\n",
       "      <td>4</td>\n",
       "      <td>ELEC</td>\n",
       "    </tr>\n",
       "    <tr>\n",
       "      <th>2</th>\n",
       "      <td>train_Client_0</td>\n",
       "      <td>2015-03-23</td>\n",
       "      <td>11</td>\n",
       "      <td>1335667</td>\n",
       "      <td>0</td>\n",
       "      <td>203</td>\n",
       "      <td>8</td>\n",
       "      <td>1</td>\n",
       "      <td>123</td>\n",
       "      <td>0</td>\n",
       "      <td>0</td>\n",
       "      <td>0</td>\n",
       "      <td>14624</td>\n",
       "      <td>14747</td>\n",
       "      <td>4</td>\n",
       "      <td>ELEC</td>\n",
       "    </tr>\n",
       "    <tr>\n",
       "      <th>3</th>\n",
       "      <td>train_Client_0</td>\n",
       "      <td>2015-07-13</td>\n",
       "      <td>11</td>\n",
       "      <td>1335667</td>\n",
       "      <td>0</td>\n",
       "      <td>207</td>\n",
       "      <td>8</td>\n",
       "      <td>1</td>\n",
       "      <td>102</td>\n",
       "      <td>0</td>\n",
       "      <td>0</td>\n",
       "      <td>0</td>\n",
       "      <td>14747</td>\n",
       "      <td>14849</td>\n",
       "      <td>4</td>\n",
       "      <td>ELEC</td>\n",
       "    </tr>\n",
       "    <tr>\n",
       "      <th>4</th>\n",
       "      <td>train_Client_0</td>\n",
       "      <td>2016-11-17</td>\n",
       "      <td>11</td>\n",
       "      <td>1335667</td>\n",
       "      <td>0</td>\n",
       "      <td>207</td>\n",
       "      <td>9</td>\n",
       "      <td>1</td>\n",
       "      <td>572</td>\n",
       "      <td>0</td>\n",
       "      <td>0</td>\n",
       "      <td>0</td>\n",
       "      <td>15066</td>\n",
       "      <td>15638</td>\n",
       "      <td>12</td>\n",
       "      <td>ELEC</td>\n",
       "    </tr>\n",
       "  </tbody>\n",
       "</table>\n",
       "</div>"
      ],
      "text/plain": [
       "        client_id invoice_date  tarif_type  counter_number counter_statue  \\\n",
       "0  train_Client_0   2014-03-24          11         1335667              0   \n",
       "1  train_Client_0   2013-03-29          11         1335667              0   \n",
       "2  train_Client_0   2015-03-23          11         1335667              0   \n",
       "3  train_Client_0   2015-07-13          11         1335667              0   \n",
       "4  train_Client_0   2016-11-17          11         1335667              0   \n",
       "\n",
       "   counter_code  reading_remarque  counter_coefficient  consommation_level_1  \\\n",
       "0           203                 8                    1                    82   \n",
       "1           203                 6                    1                  1200   \n",
       "2           203                 8                    1                   123   \n",
       "3           207                 8                    1                   102   \n",
       "4           207                 9                    1                   572   \n",
       "\n",
       "   consommation_level_2  consommation_level_3  consommation_level_4  \\\n",
       "0                     0                     0                     0   \n",
       "1                   184                     0                     0   \n",
       "2                     0                     0                     0   \n",
       "3                     0                     0                     0   \n",
       "4                     0                     0                     0   \n",
       "\n",
       "   old_index  new_index  months_number counter_type  \n",
       "0      14302      14384              4         ELEC  \n",
       "1      12294      13678              4         ELEC  \n",
       "2      14624      14747              4         ELEC  \n",
       "3      14747      14849              4         ELEC  \n",
       "4      15066      15638             12         ELEC  "
      ]
     },
     "execution_count": 8,
     "metadata": {},
     "output_type": "execute_result"
    }
   ],
   "source": [
    "invoice_train.head()"
   ]
  },
  {
   "cell_type": "code",
   "execution_count": 9,
   "id": "88b44173-3f54-419a-a82f-4653ff312fdc",
   "metadata": {},
   "outputs": [
    {
     "data": {
      "text/html": [
       "<div>\n",
       "<style scoped>\n",
       "    .dataframe tbody tr th:only-of-type {\n",
       "        vertical-align: middle;\n",
       "    }\n",
       "\n",
       "    .dataframe tbody tr th {\n",
       "        vertical-align: top;\n",
       "    }\n",
       "\n",
       "    .dataframe thead th {\n",
       "        text-align: right;\n",
       "    }\n",
       "</style>\n",
       "<table border=\"1\" class=\"dataframe\">\n",
       "  <thead>\n",
       "    <tr style=\"text-align: right;\">\n",
       "      <th></th>\n",
       "      <th>disrict</th>\n",
       "      <th>client_id</th>\n",
       "      <th>client_catg</th>\n",
       "      <th>region</th>\n",
       "      <th>creation_date</th>\n",
       "      <th>target</th>\n",
       "    </tr>\n",
       "  </thead>\n",
       "  <tbody>\n",
       "    <tr>\n",
       "      <th>12568</th>\n",
       "      <td>69</td>\n",
       "      <td>train_Client_111307</td>\n",
       "      <td>11</td>\n",
       "      <td>107</td>\n",
       "      <td>04/10/2006</td>\n",
       "      <td>0.0</td>\n",
       "    </tr>\n",
       "    <tr>\n",
       "      <th>106251</th>\n",
       "      <td>60</td>\n",
       "      <td>train_Client_73680</td>\n",
       "      <td>11</td>\n",
       "      <td>101</td>\n",
       "      <td>06/03/2002</td>\n",
       "      <td>0.0</td>\n",
       "    </tr>\n",
       "    <tr>\n",
       "      <th>101929</th>\n",
       "      <td>62</td>\n",
       "      <td>train_Client_69791</td>\n",
       "      <td>11</td>\n",
       "      <td>301</td>\n",
       "      <td>07/12/1988</td>\n",
       "      <td>0.0</td>\n",
       "    </tr>\n",
       "    <tr>\n",
       "      <th>79846</th>\n",
       "      <td>69</td>\n",
       "      <td>train_Client_49916</td>\n",
       "      <td>11</td>\n",
       "      <td>107</td>\n",
       "      <td>04/12/1998</td>\n",
       "      <td>0.0</td>\n",
       "    </tr>\n",
       "    <tr>\n",
       "      <th>41425</th>\n",
       "      <td>69</td>\n",
       "      <td>train_Client_15336</td>\n",
       "      <td>11</td>\n",
       "      <td>103</td>\n",
       "      <td>16/12/2015</td>\n",
       "      <td>0.0</td>\n",
       "    </tr>\n",
       "  </tbody>\n",
       "</table>\n",
       "</div>"
      ],
      "text/plain": [
       "        disrict            client_id  client_catg  region creation_date  \\\n",
       "12568        69  train_Client_111307           11     107    04/10/2006   \n",
       "106251       60   train_Client_73680           11     101    06/03/2002   \n",
       "101929       62   train_Client_69791           11     301    07/12/1988   \n",
       "79846        69   train_Client_49916           11     107    04/12/1998   \n",
       "41425        69   train_Client_15336           11     103    16/12/2015   \n",
       "\n",
       "        target  \n",
       "12568      0.0  \n",
       "106251     0.0  \n",
       "101929     0.0  \n",
       "79846      0.0  \n",
       "41425      0.0  "
      ]
     },
     "execution_count": 9,
     "metadata": {},
     "output_type": "execute_result"
    }
   ],
   "source": [
    "client_train.sample(5)"
   ]
  },
  {
   "cell_type": "code",
   "execution_count": 10,
   "id": "3aae4a50-b5ee-4dd3-9b17-85241a74f0c5",
   "metadata": {},
   "outputs": [
    {
     "data": {
      "text/html": [
       "<div>\n",
       "<style scoped>\n",
       "    .dataframe tbody tr th:only-of-type {\n",
       "        vertical-align: middle;\n",
       "    }\n",
       "\n",
       "    .dataframe tbody tr th {\n",
       "        vertical-align: top;\n",
       "    }\n",
       "\n",
       "    .dataframe thead th {\n",
       "        text-align: right;\n",
       "    }\n",
       "</style>\n",
       "<table border=\"1\" class=\"dataframe\">\n",
       "  <thead>\n",
       "    <tr style=\"text-align: right;\">\n",
       "      <th></th>\n",
       "      <th>tarif_type</th>\n",
       "      <th>counter_number</th>\n",
       "      <th>counter_code</th>\n",
       "      <th>reading_remarque</th>\n",
       "      <th>counter_coefficient</th>\n",
       "      <th>consommation_level_1</th>\n",
       "      <th>consommation_level_2</th>\n",
       "      <th>consommation_level_3</th>\n",
       "      <th>consommation_level_4</th>\n",
       "      <th>old_index</th>\n",
       "      <th>new_index</th>\n",
       "      <th>months_number</th>\n",
       "    </tr>\n",
       "  </thead>\n",
       "  <tbody>\n",
       "    <tr>\n",
       "      <th>count</th>\n",
       "      <td>4.476749e+06</td>\n",
       "      <td>4.476749e+06</td>\n",
       "      <td>4.476749e+06</td>\n",
       "      <td>4.476749e+06</td>\n",
       "      <td>4.476749e+06</td>\n",
       "      <td>4.476749e+06</td>\n",
       "      <td>4.476749e+06</td>\n",
       "      <td>4.476749e+06</td>\n",
       "      <td>4.476749e+06</td>\n",
       "      <td>4.476749e+06</td>\n",
       "      <td>4.476749e+06</td>\n",
       "      <td>4.476749e+06</td>\n",
       "    </tr>\n",
       "    <tr>\n",
       "      <th>mean</th>\n",
       "      <td>2.012804e+01</td>\n",
       "      <td>1.230587e+11</td>\n",
       "      <td>1.724884e+02</td>\n",
       "      <td>7.321702e+00</td>\n",
       "      <td>1.003040e+00</td>\n",
       "      <td>4.109795e+02</td>\n",
       "      <td>1.093225e+02</td>\n",
       "      <td>2.030620e+01</td>\n",
       "      <td>5.292588e+01</td>\n",
       "      <td>1.776700e+04</td>\n",
       "      <td>1.834970e+04</td>\n",
       "      <td>4.483095e+01</td>\n",
       "    </tr>\n",
       "    <tr>\n",
       "      <th>std</th>\n",
       "      <td>1.347256e+01</td>\n",
       "      <td>1.657267e+12</td>\n",
       "      <td>1.338871e+02</td>\n",
       "      <td>1.571654e+00</td>\n",
       "      <td>3.083466e-01</td>\n",
       "      <td>7.573080e+02</td>\n",
       "      <td>1.220123e+03</td>\n",
       "      <td>1.574239e+02</td>\n",
       "      <td>8.754725e+02</td>\n",
       "      <td>4.036693e+04</td>\n",
       "      <td>4.095321e+04</td>\n",
       "      <td>3.128335e+03</td>\n",
       "    </tr>\n",
       "    <tr>\n",
       "      <th>min</th>\n",
       "      <td>8.000000e+00</td>\n",
       "      <td>0.000000e+00</td>\n",
       "      <td>0.000000e+00</td>\n",
       "      <td>5.000000e+00</td>\n",
       "      <td>0.000000e+00</td>\n",
       "      <td>0.000000e+00</td>\n",
       "      <td>0.000000e+00</td>\n",
       "      <td>0.000000e+00</td>\n",
       "      <td>0.000000e+00</td>\n",
       "      <td>0.000000e+00</td>\n",
       "      <td>0.000000e+00</td>\n",
       "      <td>0.000000e+00</td>\n",
       "    </tr>\n",
       "    <tr>\n",
       "      <th>25%</th>\n",
       "      <td>1.100000e+01</td>\n",
       "      <td>1.211080e+05</td>\n",
       "      <td>5.000000e+00</td>\n",
       "      <td>6.000000e+00</td>\n",
       "      <td>1.000000e+00</td>\n",
       "      <td>7.900000e+01</td>\n",
       "      <td>0.000000e+00</td>\n",
       "      <td>0.000000e+00</td>\n",
       "      <td>0.000000e+00</td>\n",
       "      <td>1.791000e+03</td>\n",
       "      <td>2.056000e+03</td>\n",
       "      <td>4.000000e+00</td>\n",
       "    </tr>\n",
       "    <tr>\n",
       "      <th>50%</th>\n",
       "      <td>1.100000e+01</td>\n",
       "      <td>4.945610e+05</td>\n",
       "      <td>2.030000e+02</td>\n",
       "      <td>8.000000e+00</td>\n",
       "      <td>1.000000e+00</td>\n",
       "      <td>2.740000e+02</td>\n",
       "      <td>0.000000e+00</td>\n",
       "      <td>0.000000e+00</td>\n",
       "      <td>0.000000e+00</td>\n",
       "      <td>7.690000e+03</td>\n",
       "      <td>8.192000e+03</td>\n",
       "      <td>4.000000e+00</td>\n",
       "    </tr>\n",
       "    <tr>\n",
       "      <th>75%</th>\n",
       "      <td>4.000000e+01</td>\n",
       "      <td>1.115161e+06</td>\n",
       "      <td>2.070000e+02</td>\n",
       "      <td>9.000000e+00</td>\n",
       "      <td>1.000000e+00</td>\n",
       "      <td>6.000000e+02</td>\n",
       "      <td>0.000000e+00</td>\n",
       "      <td>0.000000e+00</td>\n",
       "      <td>0.000000e+00</td>\n",
       "      <td>2.166000e+04</td>\n",
       "      <td>2.234300e+04</td>\n",
       "      <td>4.000000e+00</td>\n",
       "    </tr>\n",
       "    <tr>\n",
       "      <th>max</th>\n",
       "      <td>4.500000e+01</td>\n",
       "      <td>2.798115e+13</td>\n",
       "      <td>6.000000e+02</td>\n",
       "      <td>4.130000e+02</td>\n",
       "      <td>5.000000e+01</td>\n",
       "      <td>9.999100e+05</td>\n",
       "      <td>9.990730e+05</td>\n",
       "      <td>6.449200e+04</td>\n",
       "      <td>5.479460e+05</td>\n",
       "      <td>2.800280e+06</td>\n",
       "      <td>2.870972e+06</td>\n",
       "      <td>6.366240e+05</td>\n",
       "    </tr>\n",
       "  </tbody>\n",
       "</table>\n",
       "</div>"
      ],
      "text/plain": [
       "         tarif_type  counter_number  counter_code  reading_remarque  \\\n",
       "count  4.476749e+06    4.476749e+06  4.476749e+06      4.476749e+06   \n",
       "mean   2.012804e+01    1.230587e+11  1.724884e+02      7.321702e+00   \n",
       "std    1.347256e+01    1.657267e+12  1.338871e+02      1.571654e+00   \n",
       "min    8.000000e+00    0.000000e+00  0.000000e+00      5.000000e+00   \n",
       "25%    1.100000e+01    1.211080e+05  5.000000e+00      6.000000e+00   \n",
       "50%    1.100000e+01    4.945610e+05  2.030000e+02      8.000000e+00   \n",
       "75%    4.000000e+01    1.115161e+06  2.070000e+02      9.000000e+00   \n",
       "max    4.500000e+01    2.798115e+13  6.000000e+02      4.130000e+02   \n",
       "\n",
       "       counter_coefficient  consommation_level_1  consommation_level_2  \\\n",
       "count         4.476749e+06          4.476749e+06          4.476749e+06   \n",
       "mean          1.003040e+00          4.109795e+02          1.093225e+02   \n",
       "std           3.083466e-01          7.573080e+02          1.220123e+03   \n",
       "min           0.000000e+00          0.000000e+00          0.000000e+00   \n",
       "25%           1.000000e+00          7.900000e+01          0.000000e+00   \n",
       "50%           1.000000e+00          2.740000e+02          0.000000e+00   \n",
       "75%           1.000000e+00          6.000000e+02          0.000000e+00   \n",
       "max           5.000000e+01          9.999100e+05          9.990730e+05   \n",
       "\n",
       "       consommation_level_3  consommation_level_4     old_index     new_index  \\\n",
       "count          4.476749e+06          4.476749e+06  4.476749e+06  4.476749e+06   \n",
       "mean           2.030620e+01          5.292588e+01  1.776700e+04  1.834970e+04   \n",
       "std            1.574239e+02          8.754725e+02  4.036693e+04  4.095321e+04   \n",
       "min            0.000000e+00          0.000000e+00  0.000000e+00  0.000000e+00   \n",
       "25%            0.000000e+00          0.000000e+00  1.791000e+03  2.056000e+03   \n",
       "50%            0.000000e+00          0.000000e+00  7.690000e+03  8.192000e+03   \n",
       "75%            0.000000e+00          0.000000e+00  2.166000e+04  2.234300e+04   \n",
       "max            6.449200e+04          5.479460e+05  2.800280e+06  2.870972e+06   \n",
       "\n",
       "       months_number  \n",
       "count   4.476749e+06  \n",
       "mean    4.483095e+01  \n",
       "std     3.128335e+03  \n",
       "min     0.000000e+00  \n",
       "25%     4.000000e+00  \n",
       "50%     4.000000e+00  \n",
       "75%     4.000000e+00  \n",
       "max     6.366240e+05  "
      ]
     },
     "execution_count": 10,
     "metadata": {},
     "output_type": "execute_result"
    }
   ],
   "source": [
    "invoice_train.describe()"
   ]
  },
  {
   "cell_type": "code",
   "execution_count": 11,
   "id": "bb83410f-6491-4c7c-a790-987b74d54e9f",
   "metadata": {},
   "outputs": [
    {
     "data": {
      "text/html": [
       "<div>\n",
       "<style scoped>\n",
       "    .dataframe tbody tr th:only-of-type {\n",
       "        vertical-align: middle;\n",
       "    }\n",
       "\n",
       "    .dataframe tbody tr th {\n",
       "        vertical-align: top;\n",
       "    }\n",
       "\n",
       "    .dataframe thead th {\n",
       "        text-align: right;\n",
       "    }\n",
       "</style>\n",
       "<table border=\"1\" class=\"dataframe\">\n",
       "  <thead>\n",
       "    <tr style=\"text-align: right;\">\n",
       "      <th></th>\n",
       "      <th>disrict</th>\n",
       "      <th>client_catg</th>\n",
       "      <th>region</th>\n",
       "      <th>target</th>\n",
       "    </tr>\n",
       "  </thead>\n",
       "  <tbody>\n",
       "    <tr>\n",
       "      <th>count</th>\n",
       "      <td>135493.000000</td>\n",
       "      <td>135493.000000</td>\n",
       "      <td>135493.000000</td>\n",
       "      <td>135493.000000</td>\n",
       "    </tr>\n",
       "    <tr>\n",
       "      <th>mean</th>\n",
       "      <td>63.511222</td>\n",
       "      <td>11.512506</td>\n",
       "      <td>206.159809</td>\n",
       "      <td>0.055841</td>\n",
       "    </tr>\n",
       "    <tr>\n",
       "      <th>std</th>\n",
       "      <td>3.354400</td>\n",
       "      <td>4.423761</td>\n",
       "      <td>104.207044</td>\n",
       "      <td>0.229614</td>\n",
       "    </tr>\n",
       "    <tr>\n",
       "      <th>min</th>\n",
       "      <td>60.000000</td>\n",
       "      <td>11.000000</td>\n",
       "      <td>101.000000</td>\n",
       "      <td>0.000000</td>\n",
       "    </tr>\n",
       "    <tr>\n",
       "      <th>25%</th>\n",
       "      <td>62.000000</td>\n",
       "      <td>11.000000</td>\n",
       "      <td>103.000000</td>\n",
       "      <td>0.000000</td>\n",
       "    </tr>\n",
       "    <tr>\n",
       "      <th>50%</th>\n",
       "      <td>62.000000</td>\n",
       "      <td>11.000000</td>\n",
       "      <td>107.000000</td>\n",
       "      <td>0.000000</td>\n",
       "    </tr>\n",
       "    <tr>\n",
       "      <th>75%</th>\n",
       "      <td>69.000000</td>\n",
       "      <td>11.000000</td>\n",
       "      <td>307.000000</td>\n",
       "      <td>0.000000</td>\n",
       "    </tr>\n",
       "    <tr>\n",
       "      <th>max</th>\n",
       "      <td>69.000000</td>\n",
       "      <td>51.000000</td>\n",
       "      <td>399.000000</td>\n",
       "      <td>1.000000</td>\n",
       "    </tr>\n",
       "  </tbody>\n",
       "</table>\n",
       "</div>"
      ],
      "text/plain": [
       "             disrict    client_catg         region         target\n",
       "count  135493.000000  135493.000000  135493.000000  135493.000000\n",
       "mean       63.511222      11.512506     206.159809       0.055841\n",
       "std         3.354400       4.423761     104.207044       0.229614\n",
       "min        60.000000      11.000000     101.000000       0.000000\n",
       "25%        62.000000      11.000000     103.000000       0.000000\n",
       "50%        62.000000      11.000000     107.000000       0.000000\n",
       "75%        69.000000      11.000000     307.000000       0.000000\n",
       "max        69.000000      51.000000     399.000000       1.000000"
      ]
     },
     "execution_count": 11,
     "metadata": {},
     "output_type": "execute_result"
    }
   ],
   "source": [
    "client_train.describe()"
   ]
  },
  {
   "cell_type": "code",
   "execution_count": 12,
   "id": "7b6da26a-3ff3-4e02-8bf4-33a930e222f8",
   "metadata": {},
   "outputs": [
    {
     "name": "stdout",
     "output_type": "stream",
     "text": [
      "<class 'pandas.core.frame.DataFrame'>\n",
      "RangeIndex: 4476749 entries, 0 to 4476748\n",
      "Data columns (total 16 columns):\n",
      " #   Column                Dtype \n",
      "---  ------                ----- \n",
      " 0   client_id             object\n",
      " 1   invoice_date          object\n",
      " 2   tarif_type            int64 \n",
      " 3   counter_number        int64 \n",
      " 4   counter_statue        object\n",
      " 5   counter_code          int64 \n",
      " 6   reading_remarque      int64 \n",
      " 7   counter_coefficient   int64 \n",
      " 8   consommation_level_1  int64 \n",
      " 9   consommation_level_2  int64 \n",
      " 10  consommation_level_3  int64 \n",
      " 11  consommation_level_4  int64 \n",
      " 12  old_index             int64 \n",
      " 13  new_index             int64 \n",
      " 14  months_number         int64 \n",
      " 15  counter_type          object\n",
      "dtypes: int64(12), object(4)\n",
      "memory usage: 546.5+ MB\n"
     ]
    }
   ],
   "source": [
    "invoice_train.info()"
   ]
  },
  {
   "cell_type": "code",
   "execution_count": 13,
   "id": "444b46e5-6a0a-4b6a-90c6-0b2506e5fff5",
   "metadata": {},
   "outputs": [
    {
     "name": "stdout",
     "output_type": "stream",
     "text": [
      "<class 'pandas.core.frame.DataFrame'>\n",
      "RangeIndex: 135493 entries, 0 to 135492\n",
      "Data columns (total 6 columns):\n",
      " #   Column         Non-Null Count   Dtype  \n",
      "---  ------         --------------   -----  \n",
      " 0   disrict        135493 non-null  int64  \n",
      " 1   client_id      135493 non-null  object \n",
      " 2   client_catg    135493 non-null  int64  \n",
      " 3   region         135493 non-null  int64  \n",
      " 4   creation_date  135493 non-null  object \n",
      " 5   target         135493 non-null  float64\n",
      "dtypes: float64(1), int64(3), object(2)\n",
      "memory usage: 6.2+ MB\n"
     ]
    }
   ],
   "source": [
    "client_train.info()"
   ]
  },
  {
   "cell_type": "code",
   "execution_count": 14,
   "id": "c5d89b69-a4f7-47bf-8b9e-1638687a549d",
   "metadata": {},
   "outputs": [
    {
     "data": {
      "image/png": "[encoded data removed]",
      "text/plain": [
       "<Figure size 640x480 with 1 Axes>"
      ]
     },
     "metadata": {},
     "output_type": "display_data"
    }
   ],
   "source": [
    "# Plot the ditribution of the target variable\n",
    "\n",
    "ds = client_train.groupby(['target'])['client_id'].count()\n",
    "plt.bar(x=ds.index, height=ds.values, tick_label =[0,1])\n",
    "plt.title('target distribution')\n",
    "plt.show()"
   ]
  },
  {
   "cell_type": "code",
   "execution_count": 15,
   "id": "bd078866-87f0-4bbf-bd67-befc79a266a6",
   "metadata": {},
   "outputs": [
    {
     "data": {
      "image/png": "[encoded data removed]",
      "text/plain": [
       "<Figure size 640x480 with 1 Axes>"
      ]
     },
     "metadata": {},
     "output_type": "display_data"
    },
    {
     "data": {
      "image/png": "[encoded data removed]",
      "text/plain": [
       "<Figure size 640x480 with 1 Axes>"
      ]
     },
     "metadata": {},
     "output_type": "display_data"
    },
    {
     "data": {
      "image/png": "[encoded data removed]",
      "text/plain": [
       "<Figure size 640x480 with 1 Axes>"
      ]
     },
     "metadata": {},
     "output_type": "display_data"
    }
   ],
   "source": [
    "# Plot the distribution of the district, region, and client_catg variables\n",
    "\n",
    "plot_these = ['disrict','region','client_catg']\n",
    "\n",
    "for col in plot_these:\n",
    "    ds = client_train.groupby([col])['client_id'].count()\n",
    "    plt.bar(x = ds.index, height = ds.values)\n",
    "    plt.title(col + ' distribution')\n",
    "    plt.show()"
   ]
  },
  {
   "cell_type": "code",
   "execution_count": 16,
   "id": "417925ac-5d69-4f90-9206-57c64b385076",
   "metadata": {},
   "outputs": [
    {
     "name": "stdout",
     "output_type": "stream",
     "text": [
      "client_id: 135493\n",
      "invoice_date: 8275\n",
      "tarif_type: 17\n",
      "counter_number: 201893\n",
      "counter_statue: 12\n",
      "counter_code: 42\n",
      "reading_remarque: 8\n",
      "counter_coefficient: 16\n",
      "consommation_level_1: 8295\n",
      "consommation_level_2: 12576\n",
      "consommation_level_3: 2253\n",
      "consommation_level_4: 12075\n",
      "old_index: 155648\n",
      "new_index: 157980\n",
      "months_number: 1370\n",
      "counter_type: 2\n"
     ]
    }
   ],
   "source": [
    "# Get the number of unique values in each column in the invoice_train set\n",
    "\n",
    "for col in invoice_train.columns:\n",
    "    print(col + \":\", invoice_train[col].nunique())"
   ]
  },
  {
   "cell_type": "code",
   "execution_count": 17,
   "id": "3c967793-c2cf-43f2-a93e-d094394ceabd",
   "metadata": {},
   "outputs": [],
   "source": [
    "# ***Feature Engineering***:"
   ]
  },
  {
   "cell_type": "code",
   "execution_count": 18,
   "id": "f939b5e8-1934-47ba-a11f-e3444b7e60de",
   "metadata": {},
   "outputs": [],
   "source": [
    "def feature_change(client_set, invoice_set):\n",
    "    \n",
    "    # change the types of the following columns to category type (so we don't confuse our algorithms):\n",
    "    client_set['client_catg'] = client_set['client_catg'].astype('category')\n",
    "    client_set['disrict'] = client_set['disrict'].astype('category')\n",
    "    client_set['region'] = client_set['region'].astype('category')\n",
    "    \n",
    "    client_set['region_group'] = client_set['region'].apply(lambda x: 100 if x < 100 else 300 if x > 300 else 200)\n",
    "    \n",
    "    # Change the type of this column to date type:\n",
    "    client_set['creation_date'] = pd.to_datetime(client_set['creation_date'])\n",
    "    \n",
    "    client_set['coop_time'] = (2019 - client_set['creation_date'].dt.year)*12 - client_set['creation_date'].dt.month\n",
    "    \n",
    "    # Encode the counter_type, and counter_statue variables:\n",
    "    invoice_set['counter_type'] = invoice_set['counter_type'].map({\"ELEC\":1,\"GAZ\":0})\n",
    "    \n",
    "    # Clean counter_statue from mislabeled values\n",
    "    invoice_set['counter_statue'] = invoice_set['counter_statue'].map({0:0,1:1,2:2,3:3,4:4,5:5,769:5,'0':0,'5':5,'1':1,'4':4,'A':0,618:5,269375:5,46:5,420:5})\n",
    "    \n",
    "    invoice_set['invoice_date'] = pd.to_datetime(invoice_set['invoice_date'], dayfirst=True)\n",
    "    invoice_set['invoice_month'] = invoice_set['invoice_date'].dt.month\n",
    "    invoice_set['invoice_year'] = invoice_set['invoice_date'].dt.year\n",
    "    \n",
    "    # Knowing if the day is weekday or not may be beneficial for us\n",
    "    invoice_set['is_weekday'] = ((pd.DatetimeIndex(invoice_set.invoice_date).dayofweek) // 5 == 1).astype(float)\n",
    "    \n",
    "    invoice_set['delta_index'] = invoice_set['new_index'] - invoice_set['old_index']\n",
    "    \n",
    "    return client_set, invoice_set"
   ]
  },
  {
   "cell_type": "code",
   "execution_count": 19,
   "id": "09cd4160-8752-420f-9821-59def970b23e",
   "metadata": {},
   "outputs": [],
   "source": [
    "# Apply the changes\n",
    "client_train1, invoice_train1 = feature_change(client_train, invoice_train)\n",
    "client_test1, invoice_test1 = feature_change(client_test, invoice_test)"
   ]
  },
  {
   "cell_type": "code",
   "execution_count": 20,
   "id": "d1127a5d-763d-4789-b76a-4949eb64f489",
   "metadata": {},
   "outputs": [],
   "source": [
    "# Aggregation\n",
    "\n",
    "def agg_feature(invoice, client_df, agg_stat):\n",
    "    \n",
    "    invoice['delta_time'] = invoice.sort_values(['client_id','invoice_date']).groupby('client_id')['invoice_date'].diff().dt.days.reset_index(drop=True)\n",
    "    \n",
    "    # The summary operations which we are going to apply to the continous features of the invoice data\n",
    "    agg_trans = invoice.groupby('client_id')[agg_stat+['delta_time']].agg(['mean','std','min','max'])\n",
    "    \n",
    "    agg_trans.columns = ['_'.join(col).strip() for col in agg_trans.columns.values]\n",
    "    agg_trans.reset_index(inplace=True)\n",
    "\n",
    "    # Number of transactions per some amount of time\n",
    "    df = invoice.groupby('client_id').size().reset_index(name='transactions_count')\n",
    "    agg_trans = pd.merge(df, agg_trans, on='client_id', how='left')\n",
    "    \n",
    "    weekday_avg = invoice.groupby('client_id')[['is_weekday']].agg(['mean'])\n",
    "    weekday_avg.columns = ['_'.join(col).strip() for col in weekday_avg.columns.values]\n",
    "    weekday_avg.reset_index(inplace=True)\n",
    "    client_df = pd.merge(client_df, weekday_avg, on='client_id', how='left')\n",
    "    \n",
    "    full_df = pd.merge(client_df, agg_trans, on='client_id', how='left')\n",
    "    \n",
    "    full_df['invoice_per_cooperation'] = full_df['transactions_count'] / full_df['coop_time']\n",
    "    \n",
    "    return full_df"
   ]
  },
  {
   "cell_type": "code",
   "execution_count": 21,
   "id": "c1e0a104-105d-41fc-8199-baa48e87f56f",
   "metadata": {},
   "outputs": [],
   "source": [
    "agg_stat_columns = [\n",
    " 'tarif_type',\n",
    " 'counter_number',\n",
    " 'counter_statue',\n",
    " 'counter_code',\n",
    " 'reading_remarque',\n",
    " 'consommation_level_1',\n",
    " 'consommation_level_2',\n",
    " 'consommation_level_3',\n",
    " 'consommation_level_4',\n",
    " 'old_index',\n",
    " 'new_index',\n",
    " 'months_number',\n",
    " 'counter_type',\n",
    " 'invoice_month',\n",
    " 'invoice_year',\n",
    " 'delta_index'\n",
    "]"
   ]
  },
  {
   "cell_type": "code",
   "execution_count": 22,
   "id": "20cddf99-3991-47df-bc66-4002cd228018",
   "metadata": {},
   "outputs": [],
   "source": [
    "train_df1 = agg_feature(invoice_train1, client_train1, agg_stat_columns)\n",
    "test_df1 = agg_feature(invoice_test1, client_test1, agg_stat_columns)"
   ]
  },
  {
   "cell_type": "code",
   "execution_count": 23,
   "id": "506a7f7b-56ab-40fe-a93c-400d6436031d",
   "metadata": {},
   "outputs": [],
   "source": [
    "# 'max_mean' and 'range' features\n",
    "\n",
    "def new_features(df):\n",
    "    for col in agg_stat_columns:\n",
    "        df[col + '_range'] = df[col + '_max'] - df[col + '_min']\n",
    "        df[col + '_max_mean'] = df[col + '_max'] / df[col + '_mean']\n",
    "    \n",
    "    return df"
   ]
  },
  {
   "cell_type": "code",
   "execution_count": 24,
   "id": "2e5595c3-da96-4d80-a43f-73115b6bd010",
   "metadata": {},
   "outputs": [
    {
     "name": "stdout",
     "output_type": "stream",
     "text": [
      "Index(['disrict', 'client_id', 'client_catg', 'region', 'creation_date',\n",
      "       'region_group', 'coop_time', 'is_weekday_mean', 'transactions_count',\n",
      "       'tarif_type_mean',\n",
      "       ...\n",
      "       'months_number_range', 'months_number_max_mean', 'counter_type_range',\n",
      "       'counter_type_max_mean', 'invoice_month_range',\n",
      "       'invoice_month_max_mean', 'invoice_year_range', 'invoice_year_max_mean',\n",
      "       'delta_index_range', 'delta_index_max_mean'],\n",
      "      dtype='object', length=110)\n"
     ]
    }
   ],
   "source": [
    "train_df2 = new_features(train_df1)\n",
    "test_df2 = new_features(test_df1)\n",
    "\n",
    "print(test_df2.columns)"
   ]
  },
  {
   "cell_type": "code",
   "execution_count": 25,
   "id": "50298329-2fa7-475b-ad25-662a61f59aea",
   "metadata": {},
   "outputs": [
    {
     "name": "stdout",
     "output_type": "stream",
     "text": [
      "110\n"
     ]
    }
   ],
   "source": [
    "# The total number of features so far:\n",
    "\n",
    "print(len(train_df2.columns) - 1)"
   ]
  },
  {
   "cell_type": "code",
   "execution_count": 26,
   "id": "6b38a32c-585e-4eb2-ae3a-d97a3b91f467",
   "metadata": {},
   "outputs": [],
   "source": [
    "# A function for dropping the unnessecary features\n",
    "\n",
    "def drop(df):\n",
    "    col_drop = ['client_id', 'creation_date']\n",
    "    for col in col_drop:\n",
    "        df.drop([col], axis=1, inplace=True)\n",
    "    return df"
   ]
  },
  {
   "cell_type": "code",
   "execution_count": 27,
   "id": "0c413d59-7b92-4e8d-96aa-ec4826d34800",
   "metadata": {},
   "outputs": [],
   "source": [
    "train_df = drop(train_df2)\n",
    "# test_df = drop(test_df2)\n",
    "test_df2.pop('creation_date')\n",
    "sub = test_df2.pop('client_id')\n",
    "test_df = test_df2"
   ]
  },
  {
   "cell_type": "code",
   "execution_count": 28,
   "id": "428dd2dd-dce3-4af9-b29b-46b5ae2b992a",
   "metadata": {},
   "outputs": [],
   "source": [
    "y = train_df['target']\n",
    "X = train_df.drop('target',axis=1)\n",
    "\n",
    "feature_name = X.columns.tolist()"
   ]
  },
  {
   "cell_type": "code",
   "execution_count": 29,
   "id": "147023a8-9f1d-4054-b84e-d3a06ffee27b",
   "metadata": {},
   "outputs": [],
   "source": [
    "drop_col=['reading_remarque_max','counter_statue_min','counter_type_min','counter_type_max','counter_type_range',\n",
    "          'tarif_type_max', 'delta_index_min', 'consommation_level_4_mean']\n",
    "\n",
    "X = X.drop(drop_col, axis=1)\n",
    "test_df = test_df.drop(drop_col, axis=1)"
   ]
  },
  {
   "cell_type": "code",
   "execution_count": 30,
   "id": "c06e4f7a-3b9b-4fc9-95e4-cedde587b455",
   "metadata": {},
   "outputs": [],
   "source": [
    "from optuna import Trial\n",
    "import gc\n",
    "import optuna\n",
    "from sklearn.model_selection import train_test_split\n",
    "import lightgbm as lgb\n",
    "\n",
    "category_cols = ['disrict', 'client_catg', 'region']\n",
    "\n",
    "def objective(trial: Trial):\n",
    "    gc.collect()\n",
    "    models=[]\n",
    "    validScore=0\n",
    "   \n",
    "    model,log = fitLGBM(trial,X,y)\n",
    "    \n",
    "    models.append(model)\n",
    "    gc.collect()\n",
    "    validScore+=log\n",
    "    validScore/=len(models)\n",
    "    \n",
    "    return validScore"
   ]
  },
  {
   "cell_type": "code",
   "execution_count": 31,
   "id": "e5f26359-644d-4ea4-8604-c40d8863ae88",
   "metadata": {},
   "outputs": [],
   "source": [
    "def fitLGBM(trial,X, y):\n",
    "    \n",
    "    params={\n",
    "      'n_estimators':trial.suggest_int('n_estimators', 0, 1200), \n",
    "      'num_leaves':trial.suggest_int('num_leaves', 2, 600),\n",
    "      'max_depth':trial.suggest_int('max_depth', 2, 150),\n",
    "      'learning_rate': trial.suggest_loguniform('learning_rate', 0.0005, 0.2),\n",
    "      'min_split_gain': trial.suggest_loguniform('min_split_gain', 0.001, 0.5),\n",
    "      'feature_fraction':trial.suggest_uniform('feature_fraction',0.05, 1.0),\n",
    "      'bagging_freq':trial.suggest_int('bagging_freq',0.05,10),\n",
    "      'verbosity': -1,\n",
    "      'random_state':seed\n",
    "            }\n",
    "    stkfold = StratifiedKFold(n_splits=5, shuffle=True, random_state=seed)\n",
    "    model = LGBMClassifier(**params)\n",
    "    \n",
    "    res=[]\n",
    "    for i, (tdx, vdx) in enumerate(stkfold.split(X, y)):\n",
    "        X_train, X_valid, y_train, y_valid = X.iloc[tdx], X.iloc[vdx], y[tdx], y[vdx]\n",
    "        model.fit(X_train, y_train,\n",
    "                 eval_set=[(X_train, y_train), (X_valid, y_valid)],\n",
    "                 early_stopping_rounds=30, verbose=False)\n",
    "        preds = model.predict_proba(X_valid)\n",
    "        res.append(roc_auc_score(y_valid, preds[:,1]))\n",
    "    \n",
    "    err = np.mean(res)\n",
    "    \n",
    "    return model, err"
   ]
  },
  {
   "cell_type": "code",
   "execution_count": 32,
   "id": "2c435f03-6898-4427-ac83-ff3d1d8dbfe4",
   "metadata": {},
   "outputs": [
    {
     "name": "stderr",
     "output_type": "stream",
     "text": [
      "\u001b[32m[I 2022-10-14 07:51:36,911]\u001b[0m A new study created in memory with name: no-name-9f30806c-6c53-40e4-a7c2-799943b072ef\u001b[0m\n"
     ]
    },
    {
     "name": "stdout",
     "output_type": "stream",
     "text": [
      "[LightGBM] [Warning] feature_fraction is set=0.6356755998122511, colsample_bytree=1.0 will be ignored. Current value: feature_fraction=0.6356755998122511\n",
      "[LightGBM] [Warning] bagging_freq is set=7, subsample_freq=0 will be ignored. Current value: bagging_freq=7\n",
      "[LightGBM] [Warning] feature_fraction is set=0.6356755998122511, colsample_bytree=1.0 will be ignored. Current value: feature_fraction=0.6356755998122511\n",
      "[LightGBM] [Warning] bagging_freq is set=7, subsample_freq=0 will be ignored. Current value: bagging_freq=7\n",
      "[LightGBM] [Warning] feature_fraction is set=0.6356755998122511, colsample_bytree=1.0 will be ignored. Current value: feature_fraction=0.6356755998122511\n",
      "[LightGBM] [Warning] bagging_freq is set=7, subsample_freq=0 will be ignored. Current value: bagging_freq=7\n",
      "[LightGBM] [Warning] feature_fraction is set=0.6356755998122511, colsample_bytree=1.0 will be ignored. Current value: feature_fraction=0.6356755998122511\n",
      "[LightGBM] [Warning] bagging_freq is set=7, subsample_freq=0 will be ignored. Current value: bagging_freq=7\n",
      "[LightGBM] [Warning] feature_fraction is set=0.6356755998122511, colsample_bytree=1.0 will be ignored. Current value: feature_fraction=0.6356755998122511\n",
      "[LightGBM] [Warning] bagging_freq is set=7, subsample_freq=0 will be ignored. Current value: bagging_freq=7\n"
     ]
    },
    {
     "name": "stderr",
     "output_type": "stream",
     "text": [
      "\u001b[32m[I 2022-10-14 07:53:19,310]\u001b[0m Trial 0 finished with value: 0.8718422691246708 and parameters: {'n_estimators': 268, 'num_leaves': 121, 'max_depth': 57, 'learning_rate': 0.004480661229431988, 'min_split_gain': 0.002010935068786552, 'feature_fraction': 0.6356755998122511, 'bagging_freq': 7}. Best is trial 0 with value: 0.8718422691246708.\u001b[0m\n"
     ]
    },
    {
     "name": "stdout",
     "output_type": "stream",
     "text": [
      "[LightGBM] [Warning] feature_fraction is set=0.16450101236407888, colsample_bytree=1.0 will be ignored. Current value: feature_fraction=0.16450101236407888\n",
      "[LightGBM] [Warning] bagging_freq is set=4, subsample_freq=0 will be ignored. Current value: bagging_freq=4\n",
      "[LightGBM] [Warning] feature_fraction is set=0.16450101236407888, colsample_bytree=1.0 will be ignored. Current value: feature_fraction=0.16450101236407888\n",
      "[LightGBM] [Warning] bagging_freq is set=4, subsample_freq=0 will be ignored. Current value: bagging_freq=4\n",
      "[LightGBM] [Warning] feature_fraction is set=0.16450101236407888, colsample_bytree=1.0 will be ignored. Current value: feature_fraction=0.16450101236407888\n",
      "[LightGBM] [Warning] bagging_freq is set=4, subsample_freq=0 will be ignored. Current value: bagging_freq=4\n",
      "[LightGBM] [Warning] feature_fraction is set=0.16450101236407888, colsample_bytree=1.0 will be ignored. Current value: feature_fraction=0.16450101236407888\n",
      "[LightGBM] [Warning] bagging_freq is set=4, subsample_freq=0 will be ignored. Current value: bagging_freq=4\n",
      "[LightGBM] [Warning] feature_fraction is set=0.16450101236407888, colsample_bytree=1.0 will be ignored. Current value: feature_fraction=0.16450101236407888\n",
      "[LightGBM] [Warning] bagging_freq is set=4, subsample_freq=0 will be ignored. Current value: bagging_freq=4\n"
     ]
    },
    {
     "name": "stderr",
     "output_type": "stream",
     "text": [
      "\u001b[32m[I 2022-10-14 07:56:26,567]\u001b[0m Trial 1 finished with value: 0.8817336206056801 and parameters: {'n_estimators': 1188, 'num_leaves': 186, 'max_depth': 121, 'learning_rate': 0.003704528001389483, 'min_split_gain': 0.12294823742006668, 'feature_fraction': 0.16450101236407888, 'bagging_freq': 4}. Best is trial 1 with value: 0.8817336206056801.\u001b[0m\n"
     ]
    },
    {
     "name": "stdout",
     "output_type": "stream",
     "text": [
      "[LightGBM] [Warning] feature_fraction is set=0.8773406617162723, colsample_bytree=1.0 will be ignored. Current value: feature_fraction=0.8773406617162723\n",
      "[LightGBM] [Warning] bagging_freq is set=1, subsample_freq=0 will be ignored. Current value: bagging_freq=1\n",
      "[LightGBM] [Warning] feature_fraction is set=0.8773406617162723, colsample_bytree=1.0 will be ignored. Current value: feature_fraction=0.8773406617162723\n",
      "[LightGBM] [Warning] bagging_freq is set=1, subsample_freq=0 will be ignored. Current value: bagging_freq=1\n",
      "[LightGBM] [Warning] feature_fraction is set=0.8773406617162723, colsample_bytree=1.0 will be ignored. Current value: feature_fraction=0.8773406617162723\n",
      "[LightGBM] [Warning] bagging_freq is set=1, subsample_freq=0 will be ignored. Current value: bagging_freq=1\n",
      "[LightGBM] [Warning] feature_fraction is set=0.8773406617162723, colsample_bytree=1.0 will be ignored. Current value: feature_fraction=0.8773406617162723\n",
      "[LightGBM] [Warning] bagging_freq is set=1, subsample_freq=0 will be ignored. Current value: bagging_freq=1\n",
      "[LightGBM] [Warning] feature_fraction is set=0.8773406617162723, colsample_bytree=1.0 will be ignored. Current value: feature_fraction=0.8773406617162723\n",
      "[LightGBM] [Warning] bagging_freq is set=1, subsample_freq=0 will be ignored. Current value: bagging_freq=1\n"
     ]
    },
    {
     "name": "stderr",
     "output_type": "stream",
     "text": [
      "\u001b[32m[I 2022-10-14 07:58:02,066]\u001b[0m Trial 2 finished with value: 0.8842829429456873 and parameters: {'n_estimators': 247, 'num_leaves': 151, 'max_depth': 25, 'learning_rate': 0.02235343379143793, 'min_split_gain': 0.15341889670793973, 'feature_fraction': 0.8773406617162723, 'bagging_freq': 1}. Best is trial 2 with value: 0.8842829429456873.\u001b[0m\n"
     ]
    },
    {
     "name": "stdout",
     "output_type": "stream",
     "text": [
      "[LightGBM] [Warning] feature_fraction is set=0.776441736349124, colsample_bytree=1.0 will be ignored. Current value: feature_fraction=0.776441736349124\n",
      "[LightGBM] [Warning] bagging_freq is set=0, subsample_freq=0 will be ignored. Current value: bagging_freq=0\n",
      "[LightGBM] [Warning] feature_fraction is set=0.776441736349124, colsample_bytree=1.0 will be ignored. Current value: feature_fraction=0.776441736349124\n",
      "[LightGBM] [Warning] bagging_freq is set=0, subsample_freq=0 will be ignored. Current value: bagging_freq=0\n",
      "[LightGBM] [Warning] feature_fraction is set=0.776441736349124, colsample_bytree=1.0 will be ignored. Current value: feature_fraction=0.776441736349124\n",
      "[LightGBM] [Warning] bagging_freq is set=0, subsample_freq=0 will be ignored. Current value: bagging_freq=0\n",
      "[LightGBM] [Warning] feature_fraction is set=0.776441736349124, colsample_bytree=1.0 will be ignored. Current value: feature_fraction=0.776441736349124\n",
      "[LightGBM] [Warning] bagging_freq is set=0, subsample_freq=0 will be ignored. Current value: bagging_freq=0\n",
      "[LightGBM] [Warning] feature_fraction is set=0.776441736349124, colsample_bytree=1.0 will be ignored. Current value: feature_fraction=0.776441736349124\n",
      "[LightGBM] [Warning] bagging_freq is set=0, subsample_freq=0 will be ignored. Current value: bagging_freq=0\n"
     ]
    },
    {
     "name": "stderr",
     "output_type": "stream",
     "text": [
      "\u001b[32m[I 2022-10-14 07:58:47,249]\u001b[0m Trial 3 finished with value: 0.878776177760642 and parameters: {'n_estimators': 417, 'num_leaves': 238, 'max_depth': 77, 'learning_rate': 0.08198685466206976, 'min_split_gain': 0.02895590264693723, 'feature_fraction': 0.776441736349124, 'bagging_freq': 0}. Best is trial 2 with value: 0.8842829429456873.\u001b[0m\n"
     ]
    },
    {
     "name": "stdout",
     "output_type": "stream",
     "text": [
      "[LightGBM] [Warning] feature_fraction is set=0.3641559802185118, colsample_bytree=1.0 will be ignored. Current value: feature_fraction=0.3641559802185118\n",
      "[LightGBM] [Warning] bagging_freq is set=1, subsample_freq=0 will be ignored. Current value: bagging_freq=1\n",
      "[LightGBM] [Warning] feature_fraction is set=0.3641559802185118, colsample_bytree=1.0 will be ignored. Current value: feature_fraction=0.3641559802185118\n",
      "[LightGBM] [Warning] bagging_freq is set=1, subsample_freq=0 will be ignored. Current value: bagging_freq=1\n",
      "[LightGBM] [Warning] feature_fraction is set=0.3641559802185118, colsample_bytree=1.0 will be ignored. Current value: feature_fraction=0.3641559802185118\n",
      "[LightGBM] [Warning] bagging_freq is set=1, subsample_freq=0 will be ignored. Current value: bagging_freq=1\n",
      "[LightGBM] [Warning] feature_fraction is set=0.3641559802185118, colsample_bytree=1.0 will be ignored. Current value: feature_fraction=0.3641559802185118\n",
      "[LightGBM] [Warning] bagging_freq is set=1, subsample_freq=0 will be ignored. Current value: bagging_freq=1\n",
      "[LightGBM] [Warning] feature_fraction is set=0.3641559802185118, colsample_bytree=1.0 will be ignored. Current value: feature_fraction=0.3641559802185118\n",
      "[LightGBM] [Warning] bagging_freq is set=1, subsample_freq=0 will be ignored. Current value: bagging_freq=1\n"
     ]
    },
    {
     "name": "stderr",
     "output_type": "stream",
     "text": [
      "\u001b[32m[I 2022-10-14 08:00:21,322]\u001b[0m Trial 4 finished with value: 0.8845710181523595 and parameters: {'n_estimators': 579, 'num_leaves': 140, 'max_depth': 148, 'learning_rate': 0.017760167165006512, 'min_split_gain': 0.0026551475553373933, 'feature_fraction': 0.3641559802185118, 'bagging_freq': 1}. Best is trial 4 with value: 0.8845710181523595.\u001b[0m\n"
     ]
    },
    {
     "name": "stdout",
     "output_type": "stream",
     "text": [
      "[LightGBM] [Warning] feature_fraction is set=0.7249775029792659, colsample_bytree=1.0 will be ignored. Current value: feature_fraction=0.7249775029792659\n",
      "[LightGBM] [Warning] bagging_freq is set=10, subsample_freq=0 will be ignored. Current value: bagging_freq=10\n",
      "[LightGBM] [Warning] feature_fraction is set=0.7249775029792659, colsample_bytree=1.0 will be ignored. Current value: feature_fraction=0.7249775029792659\n",
      "[LightGBM] [Warning] bagging_freq is set=10, subsample_freq=0 will be ignored. Current value: bagging_freq=10\n",
      "[LightGBM] [Warning] feature_fraction is set=0.7249775029792659, colsample_bytree=1.0 will be ignored. Current value: feature_fraction=0.7249775029792659\n",
      "[LightGBM] [Warning] bagging_freq is set=10, subsample_freq=0 will be ignored. Current value: bagging_freq=10\n",
      "[LightGBM] [Warning] feature_fraction is set=0.7249775029792659, colsample_bytree=1.0 will be ignored. Current value: feature_fraction=0.7249775029792659\n",
      "[LightGBM] [Warning] bagging_freq is set=10, subsample_freq=0 will be ignored. Current value: bagging_freq=10\n",
      "[LightGBM] [Warning] feature_fraction is set=0.7249775029792659, colsample_bytree=1.0 will be ignored. Current value: feature_fraction=0.7249775029792659\n",
      "[LightGBM] [Warning] bagging_freq is set=10, subsample_freq=0 will be ignored. Current value: bagging_freq=10\n"
     ]
    },
    {
     "name": "stderr",
     "output_type": "stream",
     "text": [
      "\u001b[32m[I 2022-10-14 08:04:14,849]\u001b[0m Trial 5 finished with value: 0.8828054915767487 and parameters: {'n_estimators': 1031, 'num_leaves': 71, 'max_depth': 86, 'learning_rate': 0.004303970612038919, 'min_split_gain': 0.181486603243195, 'feature_fraction': 0.7249775029792659, 'bagging_freq': 10}. Best is trial 4 with value: 0.8845710181523595.\u001b[0m\n"
     ]
    },
    {
     "name": "stdout",
     "output_type": "stream",
     "text": [
      "[LightGBM] [Warning] feature_fraction is set=0.914612950544258, colsample_bytree=1.0 will be ignored. Current value: feature_fraction=0.914612950544258\n",
      "[LightGBM] [Warning] bagging_freq is set=9, subsample_freq=0 will be ignored. Current value: bagging_freq=9\n",
      "[LightGBM] [Warning] feature_fraction is set=0.914612950544258, colsample_bytree=1.0 will be ignored. Current value: feature_fraction=0.914612950544258\n",
      "[LightGBM] [Warning] bagging_freq is set=9, subsample_freq=0 will be ignored. Current value: bagging_freq=9\n",
      "[LightGBM] [Warning] feature_fraction is set=0.914612950544258, colsample_bytree=1.0 will be ignored. Current value: feature_fraction=0.914612950544258\n",
      "[LightGBM] [Warning] bagging_freq is set=9, subsample_freq=0 will be ignored. Current value: bagging_freq=9\n",
      "[LightGBM] [Warning] feature_fraction is set=0.914612950544258, colsample_bytree=1.0 will be ignored. Current value: feature_fraction=0.914612950544258\n",
      "[LightGBM] [Warning] bagging_freq is set=9, subsample_freq=0 will be ignored. Current value: bagging_freq=9\n",
      "[LightGBM] [Warning] feature_fraction is set=0.914612950544258, colsample_bytree=1.0 will be ignored. Current value: feature_fraction=0.914612950544258\n",
      "[LightGBM] [Warning] bagging_freq is set=9, subsample_freq=0 will be ignored. Current value: bagging_freq=9\n"
     ]
    },
    {
     "name": "stderr",
     "output_type": "stream",
     "text": [
      "\u001b[32m[I 2022-10-14 08:08:12,748]\u001b[0m Trial 6 finished with value: 0.8831993540290618 and parameters: {'n_estimators': 1068, 'num_leaves': 188, 'max_depth': 11, 'learning_rate': 0.00929088217503061, 'min_split_gain': 0.0054972563789809975, 'feature_fraction': 0.914612950544258, 'bagging_freq': 9}. Best is trial 4 with value: 0.8845710181523595.\u001b[0m\n"
     ]
    },
    {
     "name": "stdout",
     "output_type": "stream",
     "text": [
      "[LightGBM] [Warning] feature_fraction is set=0.27250868227085395, colsample_bytree=1.0 will be ignored. Current value: feature_fraction=0.27250868227085395\n",
      "[LightGBM] [Warning] bagging_freq is set=3, subsample_freq=0 will be ignored. Current value: bagging_freq=3\n",
      "[LightGBM] [Warning] feature_fraction is set=0.27250868227085395, colsample_bytree=1.0 will be ignored. Current value: feature_fraction=0.27250868227085395\n",
      "[LightGBM] [Warning] bagging_freq is set=3, subsample_freq=0 will be ignored. Current value: bagging_freq=3\n",
      "[LightGBM] [Warning] feature_fraction is set=0.27250868227085395, colsample_bytree=1.0 will be ignored. Current value: feature_fraction=0.27250868227085395\n",
      "[LightGBM] [Warning] bagging_freq is set=3, subsample_freq=0 will be ignored. Current value: bagging_freq=3\n",
      "[LightGBM] [Warning] feature_fraction is set=0.27250868227085395, colsample_bytree=1.0 will be ignored. Current value: feature_fraction=0.27250868227085395\n",
      "[LightGBM] [Warning] bagging_freq is set=3, subsample_freq=0 will be ignored. Current value: bagging_freq=3\n",
      "[LightGBM] [Warning] feature_fraction is set=0.27250868227085395, colsample_bytree=1.0 will be ignored. Current value: feature_fraction=0.27250868227085395\n",
      "[LightGBM] [Warning] bagging_freq is set=3, subsample_freq=0 will be ignored. Current value: bagging_freq=3\n"
     ]
    },
    {
     "name": "stderr",
     "output_type": "stream",
     "text": [
      "\u001b[32m[I 2022-10-14 08:09:05,516]\u001b[0m Trial 7 finished with value: 0.8792707127849886 and parameters: {'n_estimators': 444, 'num_leaves': 411, 'max_depth': 39, 'learning_rate': 0.0329530931390335, 'min_split_gain': 0.18593170343444668, 'feature_fraction': 0.27250868227085395, 'bagging_freq': 3}. Best is trial 4 with value: 0.8845710181523595.\u001b[0m\n"
     ]
    },
    {
     "name": "stdout",
     "output_type": "stream",
     "text": [
      "[LightGBM] [Warning] feature_fraction is set=0.05503444819918201, colsample_bytree=1.0 will be ignored. Current value: feature_fraction=0.05503444819918201\n",
      "[LightGBM] [Warning] bagging_freq is set=0, subsample_freq=0 will be ignored. Current value: bagging_freq=0\n",
      "[LightGBM] [Warning] feature_fraction is set=0.05503444819918201, colsample_bytree=1.0 will be ignored. Current value: feature_fraction=0.05503444819918201\n",
      "[LightGBM] [Warning] bagging_freq is set=0, subsample_freq=0 will be ignored. Current value: bagging_freq=0\n",
      "[LightGBM] [Warning] feature_fraction is set=0.05503444819918201, colsample_bytree=1.0 will be ignored. Current value: feature_fraction=0.05503444819918201\n",
      "[LightGBM] [Warning] bagging_freq is set=0, subsample_freq=0 will be ignored. Current value: bagging_freq=0\n",
      "[LightGBM] [Warning] feature_fraction is set=0.05503444819918201, colsample_bytree=1.0 will be ignored. Current value: feature_fraction=0.05503444819918201\n",
      "[LightGBM] [Warning] bagging_freq is set=0, subsample_freq=0 will be ignored. Current value: bagging_freq=0\n",
      "[LightGBM] [Warning] feature_fraction is set=0.05503444819918201, colsample_bytree=1.0 will be ignored. Current value: feature_fraction=0.05503444819918201\n",
      "[LightGBM] [Warning] bagging_freq is set=0, subsample_freq=0 will be ignored. Current value: bagging_freq=0\n"
     ]
    },
    {
     "name": "stderr",
     "output_type": "stream",
     "text": [
      "\u001b[32m[I 2022-10-14 08:09:55,337]\u001b[0m Trial 8 finished with value: 0.8641749341185824 and parameters: {'n_estimators': 556, 'num_leaves': 526, 'max_depth': 68, 'learning_rate': 0.025640406273230124, 'min_split_gain': 0.0010873333878289532, 'feature_fraction': 0.05503444819918201, 'bagging_freq': 0}. Best is trial 4 with value: 0.8845710181523595.\u001b[0m\n"
     ]
    },
    {
     "name": "stdout",
     "output_type": "stream",
     "text": [
      "[LightGBM] [Warning] feature_fraction is set=0.6870184396239021, colsample_bytree=1.0 will be ignored. Current value: feature_fraction=0.6870184396239021\n",
      "[LightGBM] [Warning] bagging_freq is set=9, subsample_freq=0 will be ignored. Current value: bagging_freq=9\n",
      "[LightGBM] [Warning] feature_fraction is set=0.6870184396239021, colsample_bytree=1.0 will be ignored. Current value: feature_fraction=0.6870184396239021\n",
      "[LightGBM] [Warning] bagging_freq is set=9, subsample_freq=0 will be ignored. Current value: bagging_freq=9\n",
      "[LightGBM] [Warning] feature_fraction is set=0.6870184396239021, colsample_bytree=1.0 will be ignored. Current value: feature_fraction=0.6870184396239021\n",
      "[LightGBM] [Warning] bagging_freq is set=9, subsample_freq=0 will be ignored. Current value: bagging_freq=9\n",
      "[LightGBM] [Warning] feature_fraction is set=0.6870184396239021, colsample_bytree=1.0 will be ignored. Current value: feature_fraction=0.6870184396239021\n",
      "[LightGBM] [Warning] bagging_freq is set=9, subsample_freq=0 will be ignored. Current value: bagging_freq=9\n",
      "[LightGBM] [Warning] feature_fraction is set=0.6870184396239021, colsample_bytree=1.0 will be ignored. Current value: feature_fraction=0.6870184396239021\n",
      "[LightGBM] [Warning] bagging_freq is set=9, subsample_freq=0 will be ignored. Current value: bagging_freq=9\n"
     ]
    },
    {
     "name": "stderr",
     "output_type": "stream",
     "text": [
      "\u001b[32m[I 2022-10-14 08:10:03,624]\u001b[0m Trial 9 finished with value: 0.7730225532443413 and parameters: {'n_estimators': 45, 'num_leaves': 5, 'max_depth': 139, 'learning_rate': 0.001215101359985786, 'min_split_gain': 0.23905635411233508, 'feature_fraction': 0.6870184396239021, 'bagging_freq': 9}. Best is trial 4 with value: 0.8845710181523595.\u001b[0m\n"
     ]
    },
    {
     "name": "stdout",
     "output_type": "stream",
     "text": [
      "[LightGBM] [Warning] feature_fraction is set=0.41507670610777503, colsample_bytree=1.0 will be ignored. Current value: feature_fraction=0.41507670610777503\n",
      "[LightGBM] [Warning] bagging_freq is set=2, subsample_freq=0 will be ignored. Current value: bagging_freq=2\n",
      "[LightGBM] [Warning] feature_fraction is set=0.41507670610777503, colsample_bytree=1.0 will be ignored. Current value: feature_fraction=0.41507670610777503\n",
      "[LightGBM] [Warning] bagging_freq is set=2, subsample_freq=0 will be ignored. Current value: bagging_freq=2\n",
      "[LightGBM] [Warning] feature_fraction is set=0.41507670610777503, colsample_bytree=1.0 will be ignored. Current value: feature_fraction=0.41507670610777503\n",
      "[LightGBM] [Warning] bagging_freq is set=2, subsample_freq=0 will be ignored. Current value: bagging_freq=2\n",
      "[LightGBM] [Warning] feature_fraction is set=0.41507670610777503, colsample_bytree=1.0 will be ignored. Current value: feature_fraction=0.41507670610777503\n",
      "[LightGBM] [Warning] bagging_freq is set=2, subsample_freq=0 will be ignored. Current value: bagging_freq=2\n",
      "[LightGBM] [Warning] feature_fraction is set=0.41507670610777503, colsample_bytree=1.0 will be ignored. Current value: feature_fraction=0.41507670610777503\n",
      "[LightGBM] [Warning] bagging_freq is set=2, subsample_freq=0 will be ignored. Current value: bagging_freq=2\n"
     ]
    },
    {
     "name": "stderr",
     "output_type": "stream",
     "text": [
      "\u001b[32m[I 2022-10-14 08:10:30,043]\u001b[0m Trial 10 finished with value: 0.8680367539600204 and parameters: {'n_estimators': 768, 'num_leaves': 350, 'max_depth': 113, 'learning_rate': 0.14737069010532305, 'min_split_gain': 0.010527602810961264, 'feature_fraction': 0.41507670610777503, 'bagging_freq': 2}. Best is trial 4 with value: 0.8845710181523595.\u001b[0m\n"
     ]
    },
    {
     "name": "stdout",
     "output_type": "stream",
     "text": [
      "[LightGBM] [Warning] feature_fraction is set=0.4247550565797415, colsample_bytree=1.0 will be ignored. Current value: feature_fraction=0.4247550565797415\n",
      "[LightGBM] [Warning] bagging_freq is set=2, subsample_freq=0 will be ignored. Current value: bagging_freq=2\n",
      "[LightGBM] [Warning] feature_fraction is set=0.4247550565797415, colsample_bytree=1.0 will be ignored. Current value: feature_fraction=0.4247550565797415\n",
      "[LightGBM] [Warning] bagging_freq is set=2, subsample_freq=0 will be ignored. Current value: bagging_freq=2\n",
      "[LightGBM] [Warning] feature_fraction is set=0.4247550565797415, colsample_bytree=1.0 will be ignored. Current value: feature_fraction=0.4247550565797415\n",
      "[LightGBM] [Warning] bagging_freq is set=2, subsample_freq=0 will be ignored. Current value: bagging_freq=2\n",
      "[LightGBM] [Warning] feature_fraction is set=0.4247550565797415, colsample_bytree=1.0 will be ignored. Current value: feature_fraction=0.4247550565797415\n",
      "[LightGBM] [Warning] bagging_freq is set=2, subsample_freq=0 will be ignored. Current value: bagging_freq=2\n",
      "[LightGBM] [Warning] feature_fraction is set=0.4247550565797415, colsample_bytree=1.0 will be ignored. Current value: feature_fraction=0.4247550565797415\n",
      "[LightGBM] [Warning] bagging_freq is set=2, subsample_freq=0 will be ignored. Current value: bagging_freq=2\n"
     ]
    },
    {
     "name": "stderr",
     "output_type": "stream",
     "text": [
      "\u001b[32m[I 2022-10-14 08:11:42,986]\u001b[0m Trial 11 finished with value: 0.8810202404784142 and parameters: {'n_estimators': 784, 'num_leaves': 286, 'max_depth': 5, 'learning_rate': 0.025881902653624368, 'min_split_gain': 0.04310658901774987, 'feature_fraction': 0.4247550565797415, 'bagging_freq': 2}. Best is trial 4 with value: 0.8845710181523595.\u001b[0m\n"
     ]
    },
    {
     "name": "stdout",
     "output_type": "stream",
     "text": [
      "[LightGBM] [Warning] feature_fraction is set=0.9132590687471654, colsample_bytree=1.0 will be ignored. Current value: feature_fraction=0.9132590687471654\n",
      "[LightGBM] [Warning] bagging_freq is set=6, subsample_freq=0 will be ignored. Current value: bagging_freq=6\n",
      "[LightGBM] [Warning] feature_fraction is set=0.9132590687471654, colsample_bytree=1.0 will be ignored. Current value: feature_fraction=0.9132590687471654\n",
      "[LightGBM] [Warning] bagging_freq is set=6, subsample_freq=0 will be ignored. Current value: bagging_freq=6\n",
      "[LightGBM] [Warning] feature_fraction is set=0.9132590687471654, colsample_bytree=1.0 will be ignored. Current value: feature_fraction=0.9132590687471654\n",
      "[LightGBM] [Warning] bagging_freq is set=6, subsample_freq=0 will be ignored. Current value: bagging_freq=6\n",
      "[LightGBM] [Warning] feature_fraction is set=0.9132590687471654, colsample_bytree=1.0 will be ignored. Current value: feature_fraction=0.9132590687471654\n",
      "[LightGBM] [Warning] bagging_freq is set=6, subsample_freq=0 will be ignored. Current value: bagging_freq=6\n",
      "[LightGBM] [Warning] feature_fraction is set=0.9132590687471654, colsample_bytree=1.0 will be ignored. Current value: feature_fraction=0.9132590687471654\n",
      "[LightGBM] [Warning] bagging_freq is set=6, subsample_freq=0 will be ignored. Current value: bagging_freq=6\n"
     ]
    },
    {
     "name": "stderr",
     "output_type": "stream",
     "text": [
      "\u001b[32m[I 2022-10-14 08:12:33,180]\u001b[0m Trial 12 finished with value: 0.8769886883848178 and parameters: {'n_estimators': 136, 'num_leaves': 114, 'max_depth': 43, 'learning_rate': 0.015552976870094293, 'min_split_gain': 0.06006515596350123, 'feature_fraction': 0.9132590687471654, 'bagging_freq': 6}. Best is trial 4 with value: 0.8845710181523595.\u001b[0m\n"
     ]
    },
    {
     "name": "stdout",
     "output_type": "stream",
     "text": [
      "[LightGBM] [Warning] feature_fraction is set=0.5098778318510018, colsample_bytree=1.0 will be ignored. Current value: feature_fraction=0.5098778318510018\n",
      "[LightGBM] [Warning] bagging_freq is set=1, subsample_freq=0 will be ignored. Current value: bagging_freq=1\n",
      "[LightGBM] [Warning] feature_fraction is set=0.5098778318510018, colsample_bytree=1.0 will be ignored. Current value: feature_fraction=0.5098778318510018\n",
      "[LightGBM] [Warning] bagging_freq is set=1, subsample_freq=0 will be ignored. Current value: bagging_freq=1\n",
      "[LightGBM] [Warning] feature_fraction is set=0.5098778318510018, colsample_bytree=1.0 will be ignored. Current value: feature_fraction=0.5098778318510018\n",
      "[LightGBM] [Warning] bagging_freq is set=1, subsample_freq=0 will be ignored. Current value: bagging_freq=1\n",
      "[LightGBM] [Warning] feature_fraction is set=0.5098778318510018, colsample_bytree=1.0 will be ignored. Current value: feature_fraction=0.5098778318510018\n",
      "[LightGBM] [Warning] bagging_freq is set=1, subsample_freq=0 will be ignored. Current value: bagging_freq=1\n",
      "[LightGBM] [Warning] feature_fraction is set=0.5098778318510018, colsample_bytree=1.0 will be ignored. Current value: feature_fraction=0.5098778318510018\n",
      "[LightGBM] [Warning] bagging_freq is set=1, subsample_freq=0 will be ignored. Current value: bagging_freq=1\n"
     ]
    },
    {
     "name": "stderr",
     "output_type": "stream",
     "text": [
      "\u001b[32m[I 2022-10-14 08:12:58,591]\u001b[0m Trial 13 finished with value: 0.877023857476785 and parameters: {'n_estimators': 277, 'num_leaves': 11, 'max_depth': 148, 'learning_rate': 0.07439090182202977, 'min_split_gain': 0.48423102021756376, 'feature_fraction': 0.5098778318510018, 'bagging_freq': 1}. Best is trial 4 with value: 0.8845710181523595.\u001b[0m\n"
     ]
    },
    {
     "name": "stdout",
     "output_type": "stream",
     "text": [
      "[LightGBM] [Warning] feature_fraction is set=0.2838266193358362, colsample_bytree=1.0 will be ignored. Current value: feature_fraction=0.2838266193358362\n",
      "[LightGBM] [Warning] bagging_freq is set=4, subsample_freq=0 will be ignored. Current value: bagging_freq=4\n",
      "[LightGBM] [Warning] feature_fraction is set=0.2838266193358362, colsample_bytree=1.0 will be ignored. Current value: feature_fraction=0.2838266193358362\n",
      "[LightGBM] [Warning] bagging_freq is set=4, subsample_freq=0 will be ignored. Current value: bagging_freq=4\n",
      "[LightGBM] [Warning] feature_fraction is set=0.2838266193358362, colsample_bytree=1.0 will be ignored. Current value: feature_fraction=0.2838266193358362\n",
      "[LightGBM] [Warning] bagging_freq is set=4, subsample_freq=0 will be ignored. Current value: bagging_freq=4\n",
      "[LightGBM] [Warning] feature_fraction is set=0.2838266193358362, colsample_bytree=1.0 will be ignored. Current value: feature_fraction=0.2838266193358362\n",
      "[LightGBM] [Warning] bagging_freq is set=4, subsample_freq=0 will be ignored. Current value: bagging_freq=4\n",
      "[LightGBM] [Warning] feature_fraction is set=0.2838266193358362, colsample_bytree=1.0 will be ignored. Current value: feature_fraction=0.2838266193358362\n",
      "[LightGBM] [Warning] bagging_freq is set=4, subsample_freq=0 will be ignored. Current value: bagging_freq=4\n"
     ]
    },
    {
     "name": "stderr",
     "output_type": "stream",
     "text": [
      "\u001b[32m[I 2022-10-14 08:15:06,260]\u001b[0m Trial 14 finished with value: 0.863258198269343 and parameters: {'n_estimators': 768, 'num_leaves': 156, 'max_depth': 98, 'learning_rate': 0.0005964909550697431, 'min_split_gain': 0.005397644125607874, 'feature_fraction': 0.2838266193358362, 'bagging_freq': 4}. Best is trial 4 with value: 0.8845710181523595.\u001b[0m\n"
     ]
    },
    {
     "name": "stdout",
     "output_type": "stream",
     "text": [
      "[LightGBM] [Warning] feature_fraction is set=0.971110114934951, colsample_bytree=1.0 will be ignored. Current value: feature_fraction=0.971110114934951\n",
      "[LightGBM] [Warning] bagging_freq is set=2, subsample_freq=0 will be ignored. Current value: bagging_freq=2\n",
      "[LightGBM] [Warning] feature_fraction is set=0.971110114934951, colsample_bytree=1.0 will be ignored. Current value: feature_fraction=0.971110114934951\n",
      "[LightGBM] [Warning] bagging_freq is set=2, subsample_freq=0 will be ignored. Current value: bagging_freq=2\n",
      "[LightGBM] [Warning] feature_fraction is set=0.971110114934951, colsample_bytree=1.0 will be ignored. Current value: feature_fraction=0.971110114934951\n",
      "[LightGBM] [Warning] bagging_freq is set=2, subsample_freq=0 will be ignored. Current value: bagging_freq=2\n",
      "[LightGBM] [Warning] feature_fraction is set=0.971110114934951, colsample_bytree=1.0 will be ignored. Current value: feature_fraction=0.971110114934951\n",
      "[LightGBM] [Warning] bagging_freq is set=2, subsample_freq=0 will be ignored. Current value: bagging_freq=2\n",
      "[LightGBM] [Warning] feature_fraction is set=0.971110114934951, colsample_bytree=1.0 will be ignored. Current value: feature_fraction=0.971110114934951\n",
      "[LightGBM] [Warning] bagging_freq is set=2, subsample_freq=0 will be ignored. Current value: bagging_freq=2\n"
     ]
    },
    {
     "name": "stderr",
     "output_type": "stream",
     "text": [
      "\u001b[32m[I 2022-10-14 08:20:32,292]\u001b[0m Trial 15 finished with value: 0.884085681059485 and parameters: {'n_estimators': 595, 'num_leaves': 262, 'max_depth': 24, 'learning_rate': 0.009166610220437982, 'min_split_gain': 0.012102990578150391, 'feature_fraction': 0.971110114934951, 'bagging_freq': 2}. Best is trial 4 with value: 0.8845710181523595.\u001b[0m\n"
     ]
    },
    {
     "name": "stdout",
     "output_type": "stream",
     "text": [
      "[LightGBM] [Warning] feature_fraction is set=0.549306010980965, colsample_bytree=1.0 will be ignored. Current value: feature_fraction=0.549306010980965\n",
      "[LightGBM] [Warning] bagging_freq is set=5, subsample_freq=0 will be ignored. Current value: bagging_freq=5\n",
      "[LightGBM] [Warning] feature_fraction is set=0.549306010980965, colsample_bytree=1.0 will be ignored. Current value: feature_fraction=0.549306010980965\n",
      "[LightGBM] [Warning] bagging_freq is set=5, subsample_freq=0 will be ignored. Current value: bagging_freq=5\n",
      "[LightGBM] [Warning] feature_fraction is set=0.549306010980965, colsample_bytree=1.0 will be ignored. Current value: feature_fraction=0.549306010980965\n",
      "[LightGBM] [Warning] bagging_freq is set=5, subsample_freq=0 will be ignored. Current value: bagging_freq=5\n",
      "[LightGBM] [Warning] feature_fraction is set=0.549306010980965, colsample_bytree=1.0 will be ignored. Current value: feature_fraction=0.549306010980965\n",
      "[LightGBM] [Warning] bagging_freq is set=5, subsample_freq=0 will be ignored. Current value: bagging_freq=5\n",
      "[LightGBM] [Warning] feature_fraction is set=0.549306010980965, colsample_bytree=1.0 will be ignored. Current value: feature_fraction=0.549306010980965\n",
      "[LightGBM] [Warning] bagging_freq is set=5, subsample_freq=0 will be ignored. Current value: bagging_freq=5\n"
     ]
    },
    {
     "name": "stderr",
     "output_type": "stream",
     "text": [
      "\u001b[32m[I 2022-10-14 08:21:32,255]\u001b[0m Trial 16 finished with value: 0.8805995696476672 and parameters: {'n_estimators': 298, 'num_leaves': 376, 'max_depth': 117, 'learning_rate': 0.04766359756881384, 'min_split_gain': 0.07173706769288503, 'feature_fraction': 0.549306010980965, 'bagging_freq': 5}. Best is trial 4 with value: 0.8845710181523595.\u001b[0m\n"
     ]
    },
    {
     "name": "stdout",
     "output_type": "stream",
     "text": [
      "[LightGBM] [Warning] feature_fraction is set=0.8193223789368465, colsample_bytree=1.0 will be ignored. Current value: feature_fraction=0.8193223789368465\n",
      "[LightGBM] [Warning] bagging_freq is set=0, subsample_freq=0 will be ignored. Current value: bagging_freq=0\n",
      "[LightGBM] [Warning] feature_fraction is set=0.8193223789368465, colsample_bytree=1.0 will be ignored. Current value: feature_fraction=0.8193223789368465\n",
      "[LightGBM] [Warning] bagging_freq is set=0, subsample_freq=0 will be ignored. Current value: bagging_freq=0\n",
      "[LightGBM] [Warning] feature_fraction is set=0.8193223789368465, colsample_bytree=1.0 will be ignored. Current value: feature_fraction=0.8193223789368465\n",
      "[LightGBM] [Warning] bagging_freq is set=0, subsample_freq=0 will be ignored. Current value: bagging_freq=0\n",
      "[LightGBM] [Warning] feature_fraction is set=0.8193223789368465, colsample_bytree=1.0 will be ignored. Current value: feature_fraction=0.8193223789368465\n",
      "[LightGBM] [Warning] bagging_freq is set=0, subsample_freq=0 will be ignored. Current value: bagging_freq=0\n",
      "[LightGBM] [Warning] feature_fraction is set=0.8193223789368465, colsample_bytree=1.0 will be ignored. Current value: feature_fraction=0.8193223789368465\n",
      "[LightGBM] [Warning] bagging_freq is set=0, subsample_freq=0 will be ignored. Current value: bagging_freq=0\n"
     ]
    },
    {
     "name": "stderr",
     "output_type": "stream",
     "text": [
      "\u001b[32m[I 2022-10-14 08:21:45,464]\u001b[0m Trial 17 finished with value: 0.8599104641949055 and parameters: {'n_estimators': 13, 'num_leaves': 458, 'max_depth': 51, 'learning_rate': 0.012150266985699983, 'min_split_gain': 0.0031247266523514532, 'feature_fraction': 0.8193223789368465, 'bagging_freq': 0}. Best is trial 4 with value: 0.8845710181523595.\u001b[0m\n"
     ]
    },
    {
     "name": "stdout",
     "output_type": "stream",
     "text": [
      "[LightGBM] [Warning] feature_fraction is set=0.34435985385710616, colsample_bytree=1.0 will be ignored. Current value: feature_fraction=0.34435985385710616\n",
      "[LightGBM] [Warning] bagging_freq is set=3, subsample_freq=0 will be ignored. Current value: bagging_freq=3\n",
      "[LightGBM] [Warning] feature_fraction is set=0.34435985385710616, colsample_bytree=1.0 will be ignored. Current value: feature_fraction=0.34435985385710616\n",
      "[LightGBM] [Warning] bagging_freq is set=3, subsample_freq=0 will be ignored. Current value: bagging_freq=3\n",
      "[LightGBM] [Warning] feature_fraction is set=0.34435985385710616, colsample_bytree=1.0 will be ignored. Current value: feature_fraction=0.34435985385710616\n",
      "[LightGBM] [Warning] bagging_freq is set=3, subsample_freq=0 will be ignored. Current value: bagging_freq=3\n",
      "[LightGBM] [Warning] feature_fraction is set=0.34435985385710616, colsample_bytree=1.0 will be ignored. Current value: feature_fraction=0.34435985385710616\n",
      "[LightGBM] [Warning] bagging_freq is set=3, subsample_freq=0 will be ignored. Current value: bagging_freq=3\n",
      "[LightGBM] [Warning] feature_fraction is set=0.34435985385710616, colsample_bytree=1.0 will be ignored. Current value: feature_fraction=0.34435985385710616\n",
      "[LightGBM] [Warning] bagging_freq is set=3, subsample_freq=0 will be ignored. Current value: bagging_freq=3\n"
     ]
    },
    {
     "name": "stderr",
     "output_type": "stream",
     "text": [
      "\u001b[32m[I 2022-10-14 08:22:50,591]\u001b[0m Trial 18 finished with value: 0.8655456712543484 and parameters: {'n_estimators': 452, 'num_leaves': 76, 'max_depth': 30, 'learning_rate': 0.002313710586340521, 'min_split_gain': 0.019674513374535095, 'feature_fraction': 0.34435985385710616, 'bagging_freq': 3}. Best is trial 4 with value: 0.8845710181523595.\u001b[0m\n"
     ]
    },
    {
     "name": "stdout",
     "output_type": "stream",
     "text": [
      "[LightGBM] [Warning] feature_fraction is set=0.5630551043805861, colsample_bytree=1.0 will be ignored. Current value: feature_fraction=0.5630551043805861\n",
      "[LightGBM] [Warning] bagging_freq is set=1, subsample_freq=0 will be ignored. Current value: bagging_freq=1\n",
      "[LightGBM] [Warning] feature_fraction is set=0.5630551043805861, colsample_bytree=1.0 will be ignored. Current value: feature_fraction=0.5630551043805861\n",
      "[LightGBM] [Warning] bagging_freq is set=1, subsample_freq=0 will be ignored. Current value: bagging_freq=1\n",
      "[LightGBM] [Warning] feature_fraction is set=0.5630551043805861, colsample_bytree=1.0 will be ignored. Current value: feature_fraction=0.5630551043805861\n",
      "[LightGBM] [Warning] bagging_freq is set=1, subsample_freq=0 will be ignored. Current value: bagging_freq=1\n",
      "[LightGBM] [Warning] feature_fraction is set=0.5630551043805861, colsample_bytree=1.0 will be ignored. Current value: feature_fraction=0.5630551043805861\n",
      "[LightGBM] [Warning] bagging_freq is set=1, subsample_freq=0 will be ignored. Current value: bagging_freq=1\n",
      "[LightGBM] [Warning] feature_fraction is set=0.5630551043805861, colsample_bytree=1.0 will be ignored. Current value: feature_fraction=0.5630551043805861\n",
      "[LightGBM] [Warning] bagging_freq is set=1, subsample_freq=0 will be ignored. Current value: bagging_freq=1\n"
     ]
    },
    {
     "name": "stderr",
     "output_type": "stream",
     "text": [
      "\u001b[32m[I 2022-10-14 08:23:53,641]\u001b[0m Trial 19 finished with value: 0.8819887361712505 and parameters: {'n_estimators': 178, 'num_leaves': 221, 'max_depth': 99, 'learning_rate': 0.01948564483269584, 'min_split_gain': 0.48095810540889394, 'feature_fraction': 0.5630551043805861, 'bagging_freq': 1}. Best is trial 4 with value: 0.8845710181523595.\u001b[0m\n"
     ]
    },
    {
     "name": "stdout",
     "output_type": "stream",
     "text": [
      "[LightGBM] [Warning] feature_fraction is set=0.21129110159607908, colsample_bytree=1.0 will be ignored. Current value: feature_fraction=0.21129110159607908\n",
      "[LightGBM] [Warning] bagging_freq is set=7, subsample_freq=0 will be ignored. Current value: bagging_freq=7\n",
      "[LightGBM] [Warning] feature_fraction is set=0.21129110159607908, colsample_bytree=1.0 will be ignored. Current value: feature_fraction=0.21129110159607908\n",
      "[LightGBM] [Warning] bagging_freq is set=7, subsample_freq=0 will be ignored. Current value: bagging_freq=7\n",
      "[LightGBM] [Warning] feature_fraction is set=0.21129110159607908, colsample_bytree=1.0 will be ignored. Current value: feature_fraction=0.21129110159607908\n",
      "[LightGBM] [Warning] bagging_freq is set=7, subsample_freq=0 will be ignored. Current value: bagging_freq=7\n",
      "[LightGBM] [Warning] feature_fraction is set=0.21129110159607908, colsample_bytree=1.0 will be ignored. Current value: feature_fraction=0.21129110159607908\n",
      "[LightGBM] [Warning] bagging_freq is set=7, subsample_freq=0 will be ignored. Current value: bagging_freq=7\n",
      "[LightGBM] [Warning] feature_fraction is set=0.21129110159607908, colsample_bytree=1.0 will be ignored. Current value: feature_fraction=0.21129110159607908\n",
      "[LightGBM] [Warning] bagging_freq is set=7, subsample_freq=0 will be ignored. Current value: bagging_freq=7\n"
     ]
    },
    {
     "name": "stderr",
     "output_type": "stream",
     "text": [
      "\u001b[32m[I 2022-10-14 08:24:14,691]\u001b[0m Trial 20 finished with value: 0.8527583875083792 and parameters: {'n_estimators': 693, 'num_leaves': 586, 'max_depth': 135, 'learning_rate': 0.15559596569665196, 'min_split_gain': 0.016108247981455284, 'feature_fraction': 0.21129110159607908, 'bagging_freq': 7}. Best is trial 4 with value: 0.8845710181523595.\u001b[0m\n"
     ]
    },
    {
     "name": "stdout",
     "output_type": "stream",
     "text": [
      "[LightGBM] [Warning] feature_fraction is set=0.9936847980257045, colsample_bytree=1.0 will be ignored. Current value: feature_fraction=0.9936847980257045\n",
      "[LightGBM] [Warning] bagging_freq is set=2, subsample_freq=0 will be ignored. Current value: bagging_freq=2\n",
      "[LightGBM] [Warning] feature_fraction is set=0.9936847980257045, colsample_bytree=1.0 will be ignored. Current value: feature_fraction=0.9936847980257045\n",
      "[LightGBM] [Warning] bagging_freq is set=2, subsample_freq=0 will be ignored. Current value: bagging_freq=2\n",
      "[LightGBM] [Warning] feature_fraction is set=0.9936847980257045, colsample_bytree=1.0 will be ignored. Current value: feature_fraction=0.9936847980257045\n",
      "[LightGBM] [Warning] bagging_freq is set=2, subsample_freq=0 will be ignored. Current value: bagging_freq=2\n",
      "[LightGBM] [Warning] feature_fraction is set=0.9936847980257045, colsample_bytree=1.0 will be ignored. Current value: feature_fraction=0.9936847980257045\n",
      "[LightGBM] [Warning] bagging_freq is set=2, subsample_freq=0 will be ignored. Current value: bagging_freq=2\n",
      "[LightGBM] [Warning] feature_fraction is set=0.9936847980257045, colsample_bytree=1.0 will be ignored. Current value: feature_fraction=0.9936847980257045\n",
      "[LightGBM] [Warning] bagging_freq is set=2, subsample_freq=0 will be ignored. Current value: bagging_freq=2\n"
     ]
    },
    {
     "name": "stderr",
     "output_type": "stream",
     "text": [
      "\u001b[32m[I 2022-10-14 08:30:00,045]\u001b[0m Trial 21 finished with value: 0.883576502951209 and parameters: {'n_estimators': 591, 'num_leaves': 283, 'max_depth': 22, 'learning_rate': 0.008497672834487147, 'min_split_gain': 0.009348666077772938, 'feature_fraction': 0.9936847980257045, 'bagging_freq': 2}. Best is trial 4 with value: 0.8845710181523595.\u001b[0m\n"
     ]
    },
    {
     "name": "stdout",
     "output_type": "stream",
     "text": [
      "[LightGBM] [Warning] feature_fraction is set=0.990285405423708, colsample_bytree=1.0 will be ignored. Current value: feature_fraction=0.990285405423708\n",
      "[LightGBM] [Warning] bagging_freq is set=1, subsample_freq=0 will be ignored. Current value: bagging_freq=1\n",
      "[LightGBM] [Warning] feature_fraction is set=0.990285405423708, colsample_bytree=1.0 will be ignored. Current value: feature_fraction=0.990285405423708\n",
      "[LightGBM] [Warning] bagging_freq is set=1, subsample_freq=0 will be ignored. Current value: bagging_freq=1\n",
      "[LightGBM] [Warning] feature_fraction is set=0.990285405423708, colsample_bytree=1.0 will be ignored. Current value: feature_fraction=0.990285405423708\n",
      "[LightGBM] [Warning] bagging_freq is set=1, subsample_freq=0 will be ignored. Current value: bagging_freq=1\n",
      "[LightGBM] [Warning] feature_fraction is set=0.990285405423708, colsample_bytree=1.0 will be ignored. Current value: feature_fraction=0.990285405423708\n",
      "[LightGBM] [Warning] bagging_freq is set=1, subsample_freq=0 will be ignored. Current value: bagging_freq=1\n",
      "[LightGBM] [Warning] feature_fraction is set=0.990285405423708, colsample_bytree=1.0 will be ignored. Current value: feature_fraction=0.990285405423708\n",
      "[LightGBM] [Warning] bagging_freq is set=1, subsample_freq=0 will be ignored. Current value: bagging_freq=1\n"
     ]
    },
    {
     "name": "stderr",
     "output_type": "stream",
     "text": [
      "\u001b[32m[I 2022-10-14 08:34:50,937]\u001b[0m Trial 22 finished with value: 0.8840783141906883 and parameters: {'n_estimators': 904, 'num_leaves': 246, 'max_depth': 25, 'learning_rate': 0.009845379374260646, 'min_split_gain': 0.0010429127773631435, 'feature_fraction': 0.990285405423708, 'bagging_freq': 1}. Best is trial 4 with value: 0.8845710181523595.\u001b[0m\n"
     ]
    },
    {
     "name": "stdout",
     "output_type": "stream",
     "text": [
      "[LightGBM] [Warning] feature_fraction is set=0.8523795448760579, colsample_bytree=1.0 will be ignored. Current value: feature_fraction=0.8523795448760579\n",
      "[LightGBM] [Warning] bagging_freq is set=3, subsample_freq=0 will be ignored. Current value: bagging_freq=3\n",
      "[LightGBM] [Warning] feature_fraction is set=0.8523795448760579, colsample_bytree=1.0 will be ignored. Current value: feature_fraction=0.8523795448760579\n",
      "[LightGBM] [Warning] bagging_freq is set=3, subsample_freq=0 will be ignored. Current value: bagging_freq=3\n",
      "[LightGBM] [Warning] feature_fraction is set=0.8523795448760579, colsample_bytree=1.0 will be ignored. Current value: feature_fraction=0.8523795448760579\n",
      "[LightGBM] [Warning] bagging_freq is set=3, subsample_freq=0 will be ignored. Current value: bagging_freq=3\n",
      "[LightGBM] [Warning] feature_fraction is set=0.8523795448760579, colsample_bytree=1.0 will be ignored. Current value: feature_fraction=0.8523795448760579\n",
      "[LightGBM] [Warning] bagging_freq is set=3, subsample_freq=0 will be ignored. Current value: bagging_freq=3\n",
      "[LightGBM] [Warning] feature_fraction is set=0.8523795448760579, colsample_bytree=1.0 will be ignored. Current value: feature_fraction=0.8523795448760579\n",
      "[LightGBM] [Warning] bagging_freq is set=3, subsample_freq=0 will be ignored. Current value: bagging_freq=3\n"
     ]
    },
    {
     "name": "stderr",
     "output_type": "stream",
     "text": [
      "\u001b[32m[I 2022-10-14 08:39:51,324]\u001b[0m Trial 23 finished with value: 0.8827847500632748 and parameters: {'n_estimators': 534, 'num_leaves': 341, 'max_depth': 13, 'learning_rate': 0.006394980601395, 'min_split_gain': 0.0028600066431147273, 'feature_fraction': 0.8523795448760579, 'bagging_freq': 3}. Best is trial 4 with value: 0.8845710181523595.\u001b[0m\n"
     ]
    },
    {
     "name": "stdout",
     "output_type": "stream",
     "text": [
      "[LightGBM] [Warning] feature_fraction is set=0.8894032150868695, colsample_bytree=1.0 will be ignored. Current value: feature_fraction=0.8894032150868695\n",
      "[LightGBM] [Warning] bagging_freq is set=1, subsample_freq=0 will be ignored. Current value: bagging_freq=1\n",
      "[LightGBM] [Warning] feature_fraction is set=0.8894032150868695, colsample_bytree=1.0 will be ignored. Current value: feature_fraction=0.8894032150868695\n",
      "[LightGBM] [Warning] bagging_freq is set=1, subsample_freq=0 will be ignored. Current value: bagging_freq=1\n",
      "[LightGBM] [Warning] feature_fraction is set=0.8894032150868695, colsample_bytree=1.0 will be ignored. Current value: feature_fraction=0.8894032150868695\n",
      "[LightGBM] [Warning] bagging_freq is set=1, subsample_freq=0 will be ignored. Current value: bagging_freq=1\n",
      "[LightGBM] [Warning] feature_fraction is set=0.8894032150868695, colsample_bytree=1.0 will be ignored. Current value: feature_fraction=0.8894032150868695\n",
      "[LightGBM] [Warning] bagging_freq is set=1, subsample_freq=0 will be ignored. Current value: bagging_freq=1\n",
      "[LightGBM] [Warning] feature_fraction is set=0.8894032150868695, colsample_bytree=1.0 will be ignored. Current value: feature_fraction=0.8894032150868695\n",
      "[LightGBM] [Warning] bagging_freq is set=1, subsample_freq=0 will be ignored. Current value: bagging_freq=1\n"
     ]
    },
    {
     "name": "stderr",
     "output_type": "stream",
     "text": [
      "\u001b[32m[I 2022-10-14 08:41:12,161]\u001b[0m Trial 24 finished with value: 0.8832936961012454 and parameters: {'n_estimators': 650, 'num_leaves': 148, 'max_depth': 64, 'learning_rate': 0.035467644084350415, 'min_split_gain': 0.0069609267952633405, 'feature_fraction': 0.8894032150868695, 'bagging_freq': 1}. Best is trial 4 with value: 0.8845710181523595.\u001b[0m\n"
     ]
    },
    {
     "name": "stdout",
     "output_type": "stream",
     "text": [
      "[LightGBM] [Warning] feature_fraction is set=0.4446241092765233, colsample_bytree=1.0 will be ignored. Current value: feature_fraction=0.4446241092765233\n",
      "[LightGBM] [Warning] bagging_freq is set=2, subsample_freq=0 will be ignored. Current value: bagging_freq=2\n",
      "[LightGBM] [Warning] feature_fraction is set=0.4446241092765233, colsample_bytree=1.0 will be ignored. Current value: feature_fraction=0.4446241092765233\n",
      "[LightGBM] [Warning] bagging_freq is set=2, subsample_freq=0 will be ignored. Current value: bagging_freq=2\n",
      "[LightGBM] [Warning] feature_fraction is set=0.4446241092765233, colsample_bytree=1.0 will be ignored. Current value: feature_fraction=0.4446241092765233\n",
      "[LightGBM] [Warning] bagging_freq is set=2, subsample_freq=0 will be ignored. Current value: bagging_freq=2\n",
      "[LightGBM] [Warning] feature_fraction is set=0.4446241092765233, colsample_bytree=1.0 will be ignored. Current value: feature_fraction=0.4446241092765233\n",
      "[LightGBM] [Warning] bagging_freq is set=2, subsample_freq=0 will be ignored. Current value: bagging_freq=2\n",
      "[LightGBM] [Warning] feature_fraction is set=0.4446241092765233, colsample_bytree=1.0 will be ignored. Current value: feature_fraction=0.4446241092765233\n",
      "[LightGBM] [Warning] bagging_freq is set=2, subsample_freq=0 will be ignored. Current value: bagging_freq=2\n"
     ]
    },
    {
     "name": "stderr",
     "output_type": "stream",
     "text": [
      "\u001b[32m[I 2022-10-14 08:41:36,542]\u001b[0m Trial 25 finished with value: 0.861000523398307 and parameters: {'n_estimators': 360, 'num_leaves': 77, 'max_depth': 2, 'learning_rate': 0.057522269494571135, 'min_split_gain': 0.030079696100624085, 'feature_fraction': 0.4446241092765233, 'bagging_freq': 2}. Best is trial 4 with value: 0.8845710181523595.\u001b[0m\n"
     ]
    },
    {
     "name": "stdout",
     "output_type": "stream",
     "text": [
      "[LightGBM] [Warning] feature_fraction is set=0.6264746653508504, colsample_bytree=1.0 will be ignored. Current value: feature_fraction=0.6264746653508504\n",
      "[LightGBM] [Warning] bagging_freq is set=4, subsample_freq=0 will be ignored. Current value: bagging_freq=4\n",
      "[LightGBM] [Warning] feature_fraction is set=0.6264746653508504, colsample_bytree=1.0 will be ignored. Current value: feature_fraction=0.6264746653508504\n",
      "[LightGBM] [Warning] bagging_freq is set=4, subsample_freq=0 will be ignored. Current value: bagging_freq=4\n",
      "[LightGBM] [Warning] feature_fraction is set=0.6264746653508504, colsample_bytree=1.0 will be ignored. Current value: feature_fraction=0.6264746653508504\n",
      "[LightGBM] [Warning] bagging_freq is set=4, subsample_freq=0 will be ignored. Current value: bagging_freq=4\n",
      "[LightGBM] [Warning] feature_fraction is set=0.6264746653508504, colsample_bytree=1.0 will be ignored. Current value: feature_fraction=0.6264746653508504\n",
      "[LightGBM] [Warning] bagging_freq is set=4, subsample_freq=0 will be ignored. Current value: bagging_freq=4\n",
      "[LightGBM] [Warning] feature_fraction is set=0.6264746653508504, colsample_bytree=1.0 will be ignored. Current value: feature_fraction=0.6264746653508504\n",
      "[LightGBM] [Warning] bagging_freq is set=4, subsample_freq=0 will be ignored. Current value: bagging_freq=4\n"
     ]
    },
    {
     "name": "stderr",
     "output_type": "stream",
     "text": [
      "\u001b[32m[I 2022-10-14 08:43:49,169]\u001b[0m Trial 26 finished with value: 0.885121328594091 and parameters: {'n_estimators': 870, 'num_leaves': 192, 'max_depth': 39, 'learning_rate': 0.017143378160249082, 'min_split_gain': 0.0020268663182946905, 'feature_fraction': 0.6264746653508504, 'bagging_freq': 4}. Best is trial 26 with value: 0.885121328594091.\u001b[0m\n"
     ]
    },
    {
     "name": "stdout",
     "output_type": "stream",
     "text": [
      "[LightGBM] [Warning] feature_fraction is set=0.681599340836847, colsample_bytree=1.0 will be ignored. Current value: feature_fraction=0.681599340836847\n",
      "[LightGBM] [Warning] bagging_freq is set=5, subsample_freq=0 will be ignored. Current value: bagging_freq=5\n",
      "[LightGBM] [Warning] feature_fraction is set=0.681599340836847, colsample_bytree=1.0 will be ignored. Current value: feature_fraction=0.681599340836847\n",
      "[LightGBM] [Warning] bagging_freq is set=5, subsample_freq=0 will be ignored. Current value: bagging_freq=5\n",
      "[LightGBM] [Warning] feature_fraction is set=0.681599340836847, colsample_bytree=1.0 will be ignored. Current value: feature_fraction=0.681599340836847\n",
      "[LightGBM] [Warning] bagging_freq is set=5, subsample_freq=0 will be ignored. Current value: bagging_freq=5\n",
      "[LightGBM] [Warning] feature_fraction is set=0.681599340836847, colsample_bytree=1.0 will be ignored. Current value: feature_fraction=0.681599340836847\n",
      "[LightGBM] [Warning] bagging_freq is set=5, subsample_freq=0 will be ignored. Current value: bagging_freq=5\n",
      "[LightGBM] [Warning] feature_fraction is set=0.681599340836847, colsample_bytree=1.0 will be ignored. Current value: feature_fraction=0.681599340836847\n",
      "[LightGBM] [Warning] bagging_freq is set=5, subsample_freq=0 will be ignored. Current value: bagging_freq=5\n"
     ]
    },
    {
     "name": "stderr",
     "output_type": "stream",
     "text": [
      "\u001b[32m[I 2022-10-14 08:45:54,772]\u001b[0m Trial 27 finished with value: 0.8851930559347074 and parameters: {'n_estimators': 898, 'num_leaves': 212, 'max_depth': 50, 'learning_rate': 0.018492029959151023, 'min_split_gain': 0.0018628573046372456, 'feature_fraction': 0.681599340836847, 'bagging_freq': 5}. Best is trial 27 with value: 0.8851930559347074.\u001b[0m\n"
     ]
    },
    {
     "name": "stdout",
     "output_type": "stream",
     "text": [
      "[LightGBM] [Warning] feature_fraction is set=0.6397980263669172, colsample_bytree=1.0 will be ignored. Current value: feature_fraction=0.6397980263669172\n",
      "[LightGBM] [Warning] bagging_freq is set=5, subsample_freq=0 will be ignored. Current value: bagging_freq=5\n",
      "[LightGBM] [Warning] feature_fraction is set=0.6397980263669172, colsample_bytree=1.0 will be ignored. Current value: feature_fraction=0.6397980263669172\n",
      "[LightGBM] [Warning] bagging_freq is set=5, subsample_freq=0 will be ignored. Current value: bagging_freq=5\n",
      "[LightGBM] [Warning] feature_fraction is set=0.6397980263669172, colsample_bytree=1.0 will be ignored. Current value: feature_fraction=0.6397980263669172\n",
      "[LightGBM] [Warning] bagging_freq is set=5, subsample_freq=0 will be ignored. Current value: bagging_freq=5\n",
      "[LightGBM] [Warning] feature_fraction is set=0.6397980263669172, colsample_bytree=1.0 will be ignored. Current value: feature_fraction=0.6397980263669172\n",
      "[LightGBM] [Warning] bagging_freq is set=5, subsample_freq=0 will be ignored. Current value: bagging_freq=5\n",
      "[LightGBM] [Warning] feature_fraction is set=0.6397980263669172, colsample_bytree=1.0 will be ignored. Current value: feature_fraction=0.6397980263669172\n",
      "[LightGBM] [Warning] bagging_freq is set=5, subsample_freq=0 will be ignored. Current value: bagging_freq=5\n"
     ]
    },
    {
     "name": "stderr",
     "output_type": "stream",
     "text": [
      "\u001b[32m[I 2022-10-14 08:48:11,208]\u001b[0m Trial 28 finished with value: 0.8853192676410826 and parameters: {'n_estimators': 904, 'num_leaves': 201, 'max_depth': 45, 'learning_rate': 0.01613035945984143, 'min_split_gain': 0.0015877552481347065, 'feature_fraction': 0.6397980263669172, 'bagging_freq': 5}. Best is trial 28 with value: 0.8853192676410826.\u001b[0m\n"
     ]
    },
    {
     "name": "stdout",
     "output_type": "stream",
     "text": [
      "[LightGBM] [Warning] feature_fraction is set=0.6286048610274739, colsample_bytree=1.0 will be ignored. Current value: feature_fraction=0.6286048610274739\n",
      "[LightGBM] [Warning] bagging_freq is set=6, subsample_freq=0 will be ignored. Current value: bagging_freq=6\n",
      "[LightGBM] [Warning] feature_fraction is set=0.6286048610274739, colsample_bytree=1.0 will be ignored. Current value: feature_fraction=0.6286048610274739\n",
      "[LightGBM] [Warning] bagging_freq is set=6, subsample_freq=0 will be ignored. Current value: bagging_freq=6\n",
      "[LightGBM] [Warning] feature_fraction is set=0.6286048610274739, colsample_bytree=1.0 will be ignored. Current value: feature_fraction=0.6286048610274739\n",
      "[LightGBM] [Warning] bagging_freq is set=6, subsample_freq=0 will be ignored. Current value: bagging_freq=6\n",
      "[LightGBM] [Warning] feature_fraction is set=0.6286048610274739, colsample_bytree=1.0 will be ignored. Current value: feature_fraction=0.6286048610274739\n",
      "[LightGBM] [Warning] bagging_freq is set=6, subsample_freq=0 will be ignored. Current value: bagging_freq=6\n",
      "[LightGBM] [Warning] feature_fraction is set=0.6286048610274739, colsample_bytree=1.0 will be ignored. Current value: feature_fraction=0.6286048610274739\n",
      "[LightGBM] [Warning] bagging_freq is set=6, subsample_freq=0 will be ignored. Current value: bagging_freq=6\n"
     ]
    },
    {
     "name": "stderr",
     "output_type": "stream",
     "text": [
      "\u001b[32m[I 2022-10-14 08:53:37,548]\u001b[0m Trial 29 finished with value: 0.886153456434562 and parameters: {'n_estimators': 924, 'num_leaves': 202, 'max_depth': 55, 'learning_rate': 0.005968705689601583, 'min_split_gain': 0.002112551463720949, 'feature_fraction': 0.6286048610274739, 'bagging_freq': 6}. Best is trial 29 with value: 0.886153456434562.\u001b[0m\n"
     ]
    },
    {
     "name": "stdout",
     "output_type": "stream",
     "text": [
      "[LightGBM] [Warning] feature_fraction is set=0.6348244298213286, colsample_bytree=1.0 will be ignored. Current value: feature_fraction=0.6348244298213286\n",
      "[LightGBM] [Warning] bagging_freq is set=6, subsample_freq=0 will be ignored. Current value: bagging_freq=6\n",
      "[LightGBM] [Warning] feature_fraction is set=0.6348244298213286, colsample_bytree=1.0 will be ignored. Current value: feature_fraction=0.6348244298213286\n",
      "[LightGBM] [Warning] bagging_freq is set=6, subsample_freq=0 will be ignored. Current value: bagging_freq=6\n",
      "[LightGBM] [Warning] feature_fraction is set=0.6348244298213286, colsample_bytree=1.0 will be ignored. Current value: feature_fraction=0.6348244298213286\n",
      "[LightGBM] [Warning] bagging_freq is set=6, subsample_freq=0 will be ignored. Current value: bagging_freq=6\n",
      "[LightGBM] [Warning] feature_fraction is set=0.6348244298213286, colsample_bytree=1.0 will be ignored. Current value: feature_fraction=0.6348244298213286\n",
      "[LightGBM] [Warning] bagging_freq is set=6, subsample_freq=0 will be ignored. Current value: bagging_freq=6\n",
      "[LightGBM] [Warning] feature_fraction is set=0.6348244298213286, colsample_bytree=1.0 will be ignored. Current value: feature_fraction=0.6348244298213286\n",
      "[LightGBM] [Warning] bagging_freq is set=6, subsample_freq=0 will be ignored. Current value: bagging_freq=6\n"
     ]
    },
    {
     "name": "stderr",
     "output_type": "stream",
     "text": [
      "\u001b[32m[I 2022-10-14 09:01:36,823]\u001b[0m Trial 30 finished with value: 0.8822761492687053 and parameters: {'n_estimators': 950, 'num_leaves': 321, 'max_depth': 55, 'learning_rate': 0.002544215949066995, 'min_split_gain': 0.0016261909999399232, 'feature_fraction': 0.6348244298213286, 'bagging_freq': 6}. Best is trial 29 with value: 0.886153456434562.\u001b[0m\n"
     ]
    },
    {
     "name": "stdout",
     "output_type": "stream",
     "text": [
      "[LightGBM] [Warning] feature_fraction is set=0.6417812212797335, colsample_bytree=1.0 will be ignored. Current value: feature_fraction=0.6417812212797335\n",
      "[LightGBM] [Warning] bagging_freq is set=5, subsample_freq=0 will be ignored. Current value: bagging_freq=5\n",
      "[LightGBM] [Warning] feature_fraction is set=0.6417812212797335, colsample_bytree=1.0 will be ignored. Current value: feature_fraction=0.6417812212797335\n",
      "[LightGBM] [Warning] bagging_freq is set=5, subsample_freq=0 will be ignored. Current value: bagging_freq=5\n",
      "[LightGBM] [Warning] feature_fraction is set=0.6417812212797335, colsample_bytree=1.0 will be ignored. Current value: feature_fraction=0.6417812212797335\n",
      "[LightGBM] [Warning] bagging_freq is set=5, subsample_freq=0 will be ignored. Current value: bagging_freq=5\n",
      "[LightGBM] [Warning] feature_fraction is set=0.6417812212797335, colsample_bytree=1.0 will be ignored. Current value: feature_fraction=0.6417812212797335\n",
      "[LightGBM] [Warning] bagging_freq is set=5, subsample_freq=0 will be ignored. Current value: bagging_freq=5\n",
      "[LightGBM] [Warning] feature_fraction is set=0.6417812212797335, colsample_bytree=1.0 will be ignored. Current value: feature_fraction=0.6417812212797335\n",
      "[LightGBM] [Warning] bagging_freq is set=5, subsample_freq=0 will be ignored. Current value: bagging_freq=5\n"
     ]
    },
    {
     "name": "stderr",
     "output_type": "stream",
     "text": [
      "\u001b[32m[I 2022-10-14 09:04:11,878]\u001b[0m Trial 31 finished with value: 0.8857083274088305 and parameters: {'n_estimators': 896, 'num_leaves': 192, 'max_depth': 41, 'learning_rate': 0.013713922434708675, 'min_split_gain': 0.0017471407277216363, 'feature_fraction': 0.6417812212797335, 'bagging_freq': 5}. Best is trial 29 with value: 0.886153456434562.\u001b[0m\n"
     ]
    },
    {
     "name": "stdout",
     "output_type": "stream",
     "text": [
      "[LightGBM] [Warning] feature_fraction is set=0.7195365383519782, colsample_bytree=1.0 will be ignored. Current value: feature_fraction=0.7195365383519782\n",
      "[LightGBM] [Warning] bagging_freq is set=6, subsample_freq=0 will be ignored. Current value: bagging_freq=6\n",
      "[LightGBM] [Warning] feature_fraction is set=0.7195365383519782, colsample_bytree=1.0 will be ignored. Current value: feature_fraction=0.7195365383519782\n",
      "[LightGBM] [Warning] bagging_freq is set=6, subsample_freq=0 will be ignored. Current value: bagging_freq=6\n",
      "[LightGBM] [Warning] feature_fraction is set=0.7195365383519782, colsample_bytree=1.0 will be ignored. Current value: feature_fraction=0.7195365383519782\n",
      "[LightGBM] [Warning] bagging_freq is set=6, subsample_freq=0 will be ignored. Current value: bagging_freq=6\n",
      "[LightGBM] [Warning] feature_fraction is set=0.7195365383519782, colsample_bytree=1.0 will be ignored. Current value: feature_fraction=0.7195365383519782\n",
      "[LightGBM] [Warning] bagging_freq is set=6, subsample_freq=0 will be ignored. Current value: bagging_freq=6\n",
      "[LightGBM] [Warning] feature_fraction is set=0.7195365383519782, colsample_bytree=1.0 will be ignored. Current value: feature_fraction=0.7195365383519782\n",
      "[LightGBM] [Warning] bagging_freq is set=6, subsample_freq=0 will be ignored. Current value: bagging_freq=6\n"
     ]
    },
    {
     "name": "stderr",
     "output_type": "stream",
     "text": [
      "\u001b[32m[I 2022-10-14 09:11:00,791]\u001b[0m Trial 32 finished with value: 0.8857051876947523 and parameters: {'n_estimators': 1153, 'num_leaves': 219, 'max_depth': 47, 'learning_rate': 0.0056320155384243014, 'min_split_gain': 0.0015680190205359524, 'feature_fraction': 0.7195365383519782, 'bagging_freq': 6}. Best is trial 29 with value: 0.886153456434562.\u001b[0m\n"
     ]
    },
    {
     "name": "stdout",
     "output_type": "stream",
     "text": [
      "[LightGBM] [Warning] feature_fraction is set=0.7589424483664532, colsample_bytree=1.0 will be ignored. Current value: feature_fraction=0.7589424483664532\n",
      "[LightGBM] [Warning] bagging_freq is set=7, subsample_freq=0 will be ignored. Current value: bagging_freq=7\n",
      "[LightGBM] [Warning] feature_fraction is set=0.7589424483664532, colsample_bytree=1.0 will be ignored. Current value: feature_fraction=0.7589424483664532\n",
      "[LightGBM] [Warning] bagging_freq is set=7, subsample_freq=0 will be ignored. Current value: bagging_freq=7\n",
      "[LightGBM] [Warning] feature_fraction is set=0.7589424483664532, colsample_bytree=1.0 will be ignored. Current value: feature_fraction=0.7589424483664532\n",
      "[LightGBM] [Warning] bagging_freq is set=7, subsample_freq=0 will be ignored. Current value: bagging_freq=7\n",
      "[LightGBM] [Warning] feature_fraction is set=0.7589424483664532, colsample_bytree=1.0 will be ignored. Current value: feature_fraction=0.7589424483664532\n",
      "[LightGBM] [Warning] bagging_freq is set=7, subsample_freq=0 will be ignored. Current value: bagging_freq=7\n",
      "[LightGBM] [Warning] feature_fraction is set=0.7589424483664532, colsample_bytree=1.0 will be ignored. Current value: feature_fraction=0.7589424483664532\n",
      "[LightGBM] [Warning] bagging_freq is set=7, subsample_freq=0 will be ignored. Current value: bagging_freq=7\n"
     ]
    },
    {
     "name": "stderr",
     "output_type": "stream",
     "text": [
      "\u001b[32m[I 2022-10-14 09:16:02,474]\u001b[0m Trial 33 finished with value: 0.8852034935762896 and parameters: {'n_estimators': 1160, 'num_leaves': 109, 'max_depth': 64, 'learning_rate': 0.006440508136629824, 'min_split_gain': 0.004370713236646644, 'feature_fraction': 0.7589424483664532, 'bagging_freq': 7}. Best is trial 29 with value: 0.886153456434562.\u001b[0m\n"
     ]
    },
    {
     "name": "stdout",
     "output_type": "stream",
     "text": [
      "[LightGBM] [Warning] feature_fraction is set=0.5926932327662477, colsample_bytree=1.0 will be ignored. Current value: feature_fraction=0.5926932327662477\n",
      "[LightGBM] [Warning] bagging_freq is set=6, subsample_freq=0 will be ignored. Current value: bagging_freq=6\n",
      "[LightGBM] [Warning] feature_fraction is set=0.5926932327662477, colsample_bytree=1.0 will be ignored. Current value: feature_fraction=0.5926932327662477\n",
      "[LightGBM] [Warning] bagging_freq is set=6, subsample_freq=0 will be ignored. Current value: bagging_freq=6\n",
      "[LightGBM] [Warning] feature_fraction is set=0.5926932327662477, colsample_bytree=1.0 will be ignored. Current value: feature_fraction=0.5926932327662477\n",
      "[LightGBM] [Warning] bagging_freq is set=6, subsample_freq=0 will be ignored. Current value: bagging_freq=6\n",
      "[LightGBM] [Warning] feature_fraction is set=0.5926932327662477, colsample_bytree=1.0 will be ignored. Current value: feature_fraction=0.5926932327662477\n",
      "[LightGBM] [Warning] bagging_freq is set=6, subsample_freq=0 will be ignored. Current value: bagging_freq=6\n",
      "[LightGBM] [Warning] feature_fraction is set=0.5926932327662477, colsample_bytree=1.0 will be ignored. Current value: feature_fraction=0.5926932327662477\n",
      "[LightGBM] [Warning] bagging_freq is set=6, subsample_freq=0 will be ignored. Current value: bagging_freq=6\n"
     ]
    },
    {
     "name": "stderr",
     "output_type": "stream",
     "text": [
      "\u001b[32m[I 2022-10-14 09:21:44,578]\u001b[0m Trial 34 finished with value: 0.8831933635639002 and parameters: {'n_estimators': 1107, 'num_leaves': 170, 'max_depth': 74, 'learning_rate': 0.0030130919860222607, 'min_split_gain': 0.0013278140543871665, 'feature_fraction': 0.5926932327662477, 'bagging_freq': 6}. Best is trial 29 with value: 0.886153456434562.\u001b[0m\n"
     ]
    },
    {
     "name": "stdout",
     "output_type": "stream",
     "text": [
      "[LightGBM] [Warning] feature_fraction is set=0.4769985246734172, colsample_bytree=1.0 will be ignored. Current value: feature_fraction=0.4769985246734172\n",
      "[LightGBM] [Warning] bagging_freq is set=5, subsample_freq=0 will be ignored. Current value: bagging_freq=5\n",
      "[LightGBM] [Warning] feature_fraction is set=0.4769985246734172, colsample_bytree=1.0 will be ignored. Current value: feature_fraction=0.4769985246734172\n",
      "[LightGBM] [Warning] bagging_freq is set=5, subsample_freq=0 will be ignored. Current value: bagging_freq=5\n",
      "[LightGBM] [Warning] feature_fraction is set=0.4769985246734172, colsample_bytree=1.0 will be ignored. Current value: feature_fraction=0.4769985246734172\n",
      "[LightGBM] [Warning] bagging_freq is set=5, subsample_freq=0 will be ignored. Current value: bagging_freq=5\n",
      "[LightGBM] [Warning] feature_fraction is set=0.4769985246734172, colsample_bytree=1.0 will be ignored. Current value: feature_fraction=0.4769985246734172\n",
      "[LightGBM] [Warning] bagging_freq is set=5, subsample_freq=0 will be ignored. Current value: bagging_freq=5\n",
      "[LightGBM] [Warning] feature_fraction is set=0.4769985246734172, colsample_bytree=1.0 will be ignored. Current value: feature_fraction=0.4769985246734172\n",
      "[LightGBM] [Warning] bagging_freq is set=5, subsample_freq=0 will be ignored. Current value: bagging_freq=5\n"
     ]
    },
    {
     "name": "stderr",
     "output_type": "stream",
     "text": [
      "\u001b[32m[I 2022-10-14 09:26:58,762]\u001b[0m Trial 35 finished with value: 0.8856851503606858 and parameters: {'n_estimators': 1013, 'num_leaves': 255, 'max_depth': 44, 'learning_rate': 0.005774774976872141, 'min_split_gain': 0.003825403065738436, 'feature_fraction': 0.4769985246734172, 'bagging_freq': 5}. Best is trial 29 with value: 0.886153456434562.\u001b[0m\n"
     ]
    },
    {
     "name": "stdout",
     "output_type": "stream",
     "text": [
      "[LightGBM] [Warning] feature_fraction is set=0.47589710328204604, colsample_bytree=1.0 will be ignored. Current value: feature_fraction=0.47589710328204604\n",
      "[LightGBM] [Warning] bagging_freq is set=8, subsample_freq=0 will be ignored. Current value: bagging_freq=8\n",
      "[LightGBM] [Warning] feature_fraction is set=0.47589710328204604, colsample_bytree=1.0 will be ignored. Current value: feature_fraction=0.47589710328204604\n",
      "[LightGBM] [Warning] bagging_freq is set=8, subsample_freq=0 will be ignored. Current value: bagging_freq=8\n",
      "[LightGBM] [Warning] feature_fraction is set=0.47589710328204604, colsample_bytree=1.0 will be ignored. Current value: feature_fraction=0.47589710328204604\n",
      "[LightGBM] [Warning] bagging_freq is set=8, subsample_freq=0 will be ignored. Current value: bagging_freq=8\n",
      "[LightGBM] [Warning] feature_fraction is set=0.47589710328204604, colsample_bytree=1.0 will be ignored. Current value: feature_fraction=0.47589710328204604\n",
      "[LightGBM] [Warning] bagging_freq is set=8, subsample_freq=0 will be ignored. Current value: bagging_freq=8\n",
      "[LightGBM] [Warning] feature_fraction is set=0.47589710328204604, colsample_bytree=1.0 will be ignored. Current value: feature_fraction=0.47589710328204604\n",
      "[LightGBM] [Warning] bagging_freq is set=8, subsample_freq=0 will be ignored. Current value: bagging_freq=8\n"
     ]
    },
    {
     "name": "stderr",
     "output_type": "stream",
     "text": [
      "\u001b[32m[I 2022-10-14 09:32:23,113]\u001b[0m Trial 36 finished with value: 0.8859989169476916 and parameters: {'n_estimators': 989, 'num_leaves': 258, 'max_depth': 33, 'learning_rate': 0.005400108125940364, 'min_split_gain': 0.00387681257814178, 'feature_fraction': 0.47589710328204604, 'bagging_freq': 8}. Best is trial 29 with value: 0.886153456434562.\u001b[0m\n"
     ]
    },
    {
     "name": "stdout",
     "output_type": "stream",
     "text": [
      "[LightGBM] [Warning] feature_fraction is set=0.794465151807983, colsample_bytree=1.0 will be ignored. Current value: feature_fraction=0.794465151807983\n",
      "[LightGBM] [Warning] bagging_freq is set=8, subsample_freq=0 will be ignored. Current value: bagging_freq=8\n",
      "[LightGBM] [Warning] feature_fraction is set=0.794465151807983, colsample_bytree=1.0 will be ignored. Current value: feature_fraction=0.794465151807983\n",
      "[LightGBM] [Warning] bagging_freq is set=8, subsample_freq=0 will be ignored. Current value: bagging_freq=8\n",
      "[LightGBM] [Warning] feature_fraction is set=0.794465151807983, colsample_bytree=1.0 will be ignored. Current value: feature_fraction=0.794465151807983\n",
      "[LightGBM] [Warning] bagging_freq is set=8, subsample_freq=0 will be ignored. Current value: bagging_freq=8\n",
      "[LightGBM] [Warning] feature_fraction is set=0.794465151807983, colsample_bytree=1.0 will be ignored. Current value: feature_fraction=0.794465151807983\n",
      "[LightGBM] [Warning] bagging_freq is set=8, subsample_freq=0 will be ignored. Current value: bagging_freq=8\n",
      "[LightGBM] [Warning] feature_fraction is set=0.794465151807983, colsample_bytree=1.0 will be ignored. Current value: feature_fraction=0.794465151807983\n",
      "[LightGBM] [Warning] bagging_freq is set=8, subsample_freq=0 will be ignored. Current value: bagging_freq=8\n"
     ]
    },
    {
     "name": "stderr",
     "output_type": "stream",
     "text": [
      "\u001b[32m[I 2022-10-14 09:43:37,390]\u001b[0m Trial 37 finished with value: 0.8813450864885695 and parameters: {'n_estimators': 1200, 'num_leaves': 305, 'max_depth': 34, 'learning_rate': 0.0019067329918902637, 'min_split_gain': 0.0023054803088951043, 'feature_fraction': 0.794465151807983, 'bagging_freq': 8}. Best is trial 29 with value: 0.886153456434562.\u001b[0m\n"
     ]
    },
    {
     "name": "stdout",
     "output_type": "stream",
     "text": [
      "[LightGBM] [Warning] feature_fraction is set=0.7256254665113973, colsample_bytree=1.0 will be ignored. Current value: feature_fraction=0.7256254665113973\n",
      "[LightGBM] [Warning] bagging_freq is set=8, subsample_freq=0 will be ignored. Current value: bagging_freq=8\n",
      "[LightGBM] [Warning] feature_fraction is set=0.7256254665113973, colsample_bytree=1.0 will be ignored. Current value: feature_fraction=0.7256254665113973\n",
      "[LightGBM] [Warning] bagging_freq is set=8, subsample_freq=0 will be ignored. Current value: bagging_freq=8\n",
      "[LightGBM] [Warning] feature_fraction is set=0.7256254665113973, colsample_bytree=1.0 will be ignored. Current value: feature_fraction=0.7256254665113973\n",
      "[LightGBM] [Warning] bagging_freq is set=8, subsample_freq=0 will be ignored. Current value: bagging_freq=8\n",
      "[LightGBM] [Warning] feature_fraction is set=0.7256254665113973, colsample_bytree=1.0 will be ignored. Current value: feature_fraction=0.7256254665113973\n",
      "[LightGBM] [Warning] bagging_freq is set=8, subsample_freq=0 will be ignored. Current value: bagging_freq=8\n",
      "[LightGBM] [Warning] feature_fraction is set=0.7256254665113973, colsample_bytree=1.0 will be ignored. Current value: feature_fraction=0.7256254665113973\n",
      "[LightGBM] [Warning] bagging_freq is set=8, subsample_freq=0 will be ignored. Current value: bagging_freq=8\n"
     ]
    },
    {
     "name": "stderr",
     "output_type": "stream",
     "text": [
      "\u001b[32m[I 2022-10-14 09:50:58,447]\u001b[0m Trial 38 finished with value: 0.884829472066297 and parameters: {'n_estimators': 990, 'num_leaves': 232, 'max_depth': 83, 'learning_rate': 0.004161376818197055, 'min_split_gain': 0.003558249268405999, 'feature_fraction': 0.7256254665113973, 'bagging_freq': 8}. Best is trial 29 with value: 0.886153456434562.\u001b[0m\n"
     ]
    },
    {
     "name": "stdout",
     "output_type": "stream",
     "text": [
      "[LightGBM] [Warning] feature_fraction is set=0.5215705680358155, colsample_bytree=1.0 will be ignored. Current value: feature_fraction=0.5215705680358155\n",
      "[LightGBM] [Warning] bagging_freq is set=8, subsample_freq=0 will be ignored. Current value: bagging_freq=8\n",
      "[LightGBM] [Warning] feature_fraction is set=0.5215705680358155, colsample_bytree=1.0 will be ignored. Current value: feature_fraction=0.5215705680358155\n",
      "[LightGBM] [Warning] bagging_freq is set=8, subsample_freq=0 will be ignored. Current value: bagging_freq=8\n",
      "[LightGBM] [Warning] feature_fraction is set=0.5215705680358155, colsample_bytree=1.0 will be ignored. Current value: feature_fraction=0.5215705680358155\n",
      "[LightGBM] [Warning] bagging_freq is set=8, subsample_freq=0 will be ignored. Current value: bagging_freq=8\n",
      "[LightGBM] [Warning] feature_fraction is set=0.5215705680358155, colsample_bytree=1.0 will be ignored. Current value: feature_fraction=0.5215705680358155\n",
      "[LightGBM] [Warning] bagging_freq is set=8, subsample_freq=0 will be ignored. Current value: bagging_freq=8\n",
      "[LightGBM] [Warning] feature_fraction is set=0.5215705680358155, colsample_bytree=1.0 will be ignored. Current value: feature_fraction=0.5215705680358155\n",
      "[LightGBM] [Warning] bagging_freq is set=8, subsample_freq=0 will be ignored. Current value: bagging_freq=8\n"
     ]
    },
    {
     "name": "stderr",
     "output_type": "stream",
     "text": [
      "\u001b[32m[I 2022-10-14 09:57:52,556]\u001b[0m Trial 39 finished with value: 0.8800757951792895 and parameters: {'n_estimators': 1107, 'num_leaves': 275, 'max_depth': 60, 'learning_rate': 0.0016905488356461725, 'min_split_gain': 0.007030281973964364, 'feature_fraction': 0.5215705680358155, 'bagging_freq': 8}. Best is trial 29 with value: 0.886153456434562.\u001b[0m\n"
     ]
    }
   ],
   "source": [
    "study = optuna.create_study(direction='maximize', pruner=optuna.pruners.MedianPruner(n_warmup_steps=5))\n",
    "study.optimize(objective, timeout=60*60*2)"
   ]
  },
  {
   "cell_type": "code",
   "execution_count": 38,
   "id": "46e7147e-1b72-4924-a754-2867c7866c35",
   "metadata": {},
   "outputs": [],
   "source": [
    "'''\n",
    "\n",
    "Trial 29 finished with value: 0.886153456434562 and parameters: {'n_estimators': 924,\n",
    "'num_leaves': 202, 'max_depth': 55, 'learning_rate': 0.005968705689601583,\n",
    "'min_split_gain': 0.002112551463720949, 'feature_fraction': 0.6286048610274739,\n",
    "'bagging_freq': 6}. Best is trial 29 with value: 0.886153456434562.\n",
    "\n",
    "'''\n",
    "\n",
    "# Then our best model so far is:\n",
    "\n",
    "model = LGBMClassifier(random_state=seed, n_estimators=924, num_leaves = 202, max_depth = 55,\n",
    "                       learning_rate = 0.005968705689601583, min_split_gain = 0.002112551463720949, \n",
    "                       feature_fraction = 0.6286048610274739, bagging_freq = 6)\n",
    "                       "
   ]
  },
  {
   "cell_type": "code",
   "execution_count": 39,
   "id": "d77316db-7ae5-422d-8229-c66545c111f8",
   "metadata": {},
   "outputs": [],
   "source": [
    "stkfold = StratifiedKFold(n_splits = 5, shuffle = True, random_state = seed)\n",
    "\n",
    "def calc(X, y, model, cv):\n",
    "    res=[]\n",
    "    local_probs=pd.DataFrame()\n",
    "    probs = pd.DataFrame()\n",
    "\n",
    "    for i, (tdx, vdx) in enumerate(cv.split(X, y)):\n",
    "        X_train, X_valid, y_train, y_valid = X.iloc[tdx], X.iloc[vdx], y[tdx], y[vdx]\n",
    "        model.fit(X_train, y_train,\n",
    "                 eval_set=[(X_train, y_train), (X_valid, y_valid)],\n",
    "                 early_stopping_rounds=30, verbose=False)\n",
    "        \n",
    "        preds = model.predict_proba(X_valid)\n",
    "        oof_predict = model.predict_proba(test_df)\n",
    "        local_probs['fold_%i'%i] = oof_predict[:,1]\n",
    "        res.append(roc_auc_score(y_valid, preds[:,1]))\n",
    "\n",
    "    print('ROC AUC:', round(np.mean(res), 6))    \n",
    "    local_probs['res'] = local_probs.mean(axis=1)\n",
    "    probs['target'] = local_probs['res']\n",
    "    \n",
    "    return probs"
   ]
  },
  {
   "cell_type": "code",
   "execution_count": 40,
   "id": "3bfc733a-2052-40a2-a520-1c299b7ebfb3",
   "metadata": {},
   "outputs": [
    {
     "name": "stdout",
     "output_type": "stream",
     "text": [
      "[LightGBM] [Warning] feature_fraction is set=0.6286048610274739, colsample_bytree=1.0 will be ignored. Current value: feature_fraction=0.6286048610274739\n",
      "[LightGBM] [Warning] bagging_freq is set=6, subsample_freq=0 will be ignored. Current value: bagging_freq=6\n",
      "[LightGBM] [Warning] feature_fraction is set=0.6286048610274739, colsample_bytree=1.0 will be ignored. Current value: feature_fraction=0.6286048610274739\n",
      "[LightGBM] [Warning] bagging_freq is set=6, subsample_freq=0 will be ignored. Current value: bagging_freq=6\n",
      "[LightGBM] [Warning] feature_fraction is set=0.6286048610274739, colsample_bytree=1.0 will be ignored. Current value: feature_fraction=0.6286048610274739\n",
      "[LightGBM] [Warning] bagging_freq is set=6, subsample_freq=0 will be ignored. Current value: bagging_freq=6\n",
      "[LightGBM] [Warning] feature_fraction is set=0.6286048610274739, colsample_bytree=1.0 will be ignored. Current value: feature_fraction=0.6286048610274739\n",
      "[LightGBM] [Warning] bagging_freq is set=6, subsample_freq=0 will be ignored. Current value: bagging_freq=6\n",
      "[LightGBM] [Warning] feature_fraction is set=0.6286048610274739, colsample_bytree=1.0 will be ignored. Current value: feature_fraction=0.6286048610274739\n",
      "[LightGBM] [Warning] bagging_freq is set=6, subsample_freq=0 will be ignored. Current value: bagging_freq=6\n",
      "ROC AUC: 0.886153\n",
      "CPU times: user 24min 10s, sys: 3.83 s, total: 24min 13s\n",
      "Wall time: 6min 11s\n"
     ]
    }
   ],
   "source": [
    "%%time\n",
    "probs = calc(X, y, model, stkfold)"
   ]
  },
  {
   "cell_type": "code",
   "execution_count": 41,
   "id": "6eaee38e-ae68-4983-a06a-5763d2b30130",
   "metadata": {},
   "outputs": [],
   "source": [
    "# Submitting\n",
    "\n",
    "submission = pd.DataFrame({\n",
    "        \"client_id\": sample_submission[\"client_id\"],\n",
    "        \"target\": probs['target']\n",
    "    })\n",
    "submission.to_csv('submission - idea #1.csv', index = False)"
   ]
  }
 ],
 "metadata": {
  "kernelspec": {
   "display_name": "Python 3 (ipykernel)",
   "language": "python",
   "name": "python3"
  },
  "language_info": {
   "codemirror_mode": {
    "name": "ipython",
    "version": 3
   },
   "file_extension": ".py",
   "mimetype": "text/x-python",
   "name": "python",
   "nbconvert_exporter": "python",
   "pygments_lexer": "ipython3",
   "version": "3.9.5"
  }
 },
 "nbformat": 4,
 "nbformat_minor": 5
}
